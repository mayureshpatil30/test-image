{
  "nbformat": 4,
  "nbformat_minor": 0,
  "metadata": {
    "colab": {
      "name": "model.ipynb",
      "version": "0.3.2",
      "views": {},
      "default_view": {},
      "provenance": [],
      "collapsed_sections": []
    },
    "kernelspec": {
      "display_name": "Python 3",
      "language": "python",
      "name": "python3"
    },
    "accelerator": "GPU"
  },
  "cells": [
    {
      "metadata": {
        "id": "pLWq9nGRiOY2",
        "colab_type": "code",
        "colab": {
          "autoexec": {
            "startup": false,
            "wait_interval": 0
          },
          "base_uri": "https://localhost:8080/",
          "height": 34
        },
        "outputId": "17b0cc90-072c-44fb-b3c4-418138271399",
        "executionInfo": {
          "status": "ok",
          "timestamp": 1526655606319,
          "user_tz": -330,
          "elapsed": 9816,
          "user": {
            "displayName": "Vaibhav Jade",
            "photoUrl": "https://lh3.googleusercontent.com/a/default-user=s128",
            "userId": "112426218802661198208"
          }
        }
      },
      "cell_type": "code",
      "source": [
        " import keras\n",
        "from keras.models import  Sequential\n",
        "from keras.models import Model\n",
        "from keras.layers import Dense, Dropout, Flatten, Activation, GlobalAveragePooling2D\n",
        "from keras.callbacks import EarlyStopping\n",
        "from keras.layers.convolutional import Conv2D, MaxPooling2D\n",
        "from keras import regularizers\n",
        "\n",
        "from keras.utils import np_utils"
      ],
      "execution_count": 1,
      "outputs": [
        {
          "output_type": "stream",
          "text": [
            "Using TensorFlow backend.\n"
          ],
          "name": "stderr"
        }
      ]
    },
    {
      "metadata": {
        "id": "4fVN4Ug_AGvE",
        "colab_type": "code",
        "colab": {
          "autoexec": {
            "startup": false,
            "wait_interval": 0
          },
          "base_uri": "https://localhost:8080/",
          "height": 105
        },
        "outputId": "c0dbdc44-fa12-49dd-af7b-2d9ebf7d1f67",
        "executionInfo": {
          "status": "ok",
          "timestamp": 1528105279422,
          "user_tz": -330,
          "elapsed": 32281,
          "user": {
            "displayName": "Vaibhav Jade",
            "photoUrl": "https://lh3.googleusercontent.com/a/default-user=s128",
            "userId": "112426218802661198208"
          }
        }
      },
      "cell_type": "code",
      "source": [
        "!apt-get install -y -qq software-properties-common python-software-properties module-init-tools\n",
        "!add-apt-repository -y ppa:alessandro-strada/ppa 2>&1 > /dev/null\n",
        "!apt-get update -qq 2>&1 > /dev/null\n",
        "!apt-get -y install -qq google-drive-ocamlfuse fuse\n",
        "from google.colab import auth\n",
        "auth.authenticate_user()\n",
        "from oauth2client.client import GoogleCredentials\n",
        "creds = GoogleCredentials.get_application_default()\n",
        "import getpass\n",
        "!google-drive-ocamlfuse -headless -id={creds.client_id} -secret={creds.client_secret} < /dev/null 2>&1 | grep URL\n",
        "vcode = getpass.getpass()\n",
        "!echo {vcode} | google-drive-ocamlfuse -headless -id={creds.client_id} -secret={creds.client_secret}"
      ],
      "execution_count": 2,
      "outputs": [
        {
          "output_type": "stream",
          "text": [
            "Please, open the following URL in a web browser: https://accounts.google.com/o/oauth2/auth?client_id=32555940559.apps.googleusercontent.com&redirect_uri=urn%3Aietf%3Awg%3Aoauth%3A2.0%3Aoob&scope=https%3A%2F%2Fwww.googleapis.com%2Fauth%2Fdrive&response_type=code&access_type=offline&approval_prompt=force\r\n",
            "··········\n",
            "Please, open the following URL in a web browser: https://accounts.google.com/o/oauth2/auth?client_id=32555940559.apps.googleusercontent.com&redirect_uri=urn%3Aietf%3Awg%3Aoauth%3A2.0%3Aoob&scope=https%3A%2F%2Fwww.googleapis.com%2Fauth%2Fdrive&response_type=code&access_type=offline&approval_prompt=force\n",
            "Please enter the verification code: Access token retrieved correctly.\n"
          ],
          "name": "stdout"
        }
      ]
    },
    {
      "metadata": {
        "id": "e-rTOw-DI5mh",
        "colab_type": "code",
        "colab": {
          "autoexec": {
            "startup": false,
            "wait_interval": 0
          }
        }
      },
      "cell_type": "code",
      "source": [
        "!mkdir -p drive\n",
        "!google-drive-ocamlfuse drive"
      ],
      "execution_count": 0,
      "outputs": []
    },
    {
      "metadata": {
        "id": "wNN9ovr6iOZK",
        "colab_type": "code",
        "colab": {
          "autoexec": {
            "startup": false,
            "wait_interval": 0
          },
          "base_uri": "https://localhost:8080/",
          "height": 51
        },
        "outputId": "4784d3e1-aa7c-49ab-d1e0-5e553d494753",
        "executionInfo": {
          "status": "ok",
          "timestamp": 1525793306215,
          "user_tz": -330,
          "elapsed": 24182,
          "user": {
            "displayName": "Vaibhav Jade",
            "photoUrl": "https://lh3.googleusercontent.com/a/default-user=s128",
            "userId": "112426218802661198208"
          }
        }
      },
      "cell_type": "code",
      "source": [
        "base_model = InceptionV3(include_top = False, weights='imagenet', input_shape= (551,1117,3))"
      ],
      "execution_count": 7,
      "outputs": [
        {
          "output_type": "stream",
          "text": [
            "Downloading data from https://github.com/fchollet/deep-learning-models/releases/download/v0.5/inception_v3_weights_tf_dim_ordering_tf_kernels_notop.h5\n",
            "87916544/87910968 [==============================] - 6s 0us/step\n"
          ],
          "name": "stdout"
        }
      ]
    },
    {
      "metadata": {
        "id": "c7F50qE28bfx",
        "colab_type": "code",
        "colab": {
          "autoexec": {
            "startup": false,
            "wait_interval": 0
          }
        }
      },
      "cell_type": "code",
      "source": [
        "import os\n",
        "os.chdir('drive/SOP')"
      ],
      "execution_count": 0,
      "outputs": []
    },
    {
      "metadata": {
        "id": "pbVuhjFe9tHF",
        "colab_type": "code",
        "colab": {
          "autoexec": {
            "startup": false,
            "wait_interval": 0
          },
          "base_uri": "https://localhost:8080/",
          "height": 136
        },
        "outputId": "9b775d38-fcb8-4c0d-fcfc-63fa03b35279",
        "executionInfo": {
          "status": "ok",
          "timestamp": 1528129216048,
          "user_tz": -330,
          "elapsed": 2876,
          "user": {
            "displayName": "Vaibhav Jade",
            "photoUrl": "https://lh3.googleusercontent.com/a/default-user=s128",
            "userId": "112426218802661198208"
          }
        }
      },
      "cell_type": "code",
      "source": [
        "!ls"
      ],
      "execution_count": 6,
      "outputs": [
        {
          "output_type": "stream",
          "text": [
            "100epochs_3channel.h5  data_s_gen.h5\t\t  Testdata_SigComp2011\r\n",
            "data_1.h5\t       data_siamese_forge.pickle  trainingSet\r\n",
            "data.h5\t\t       data_siamese_gen.pickle\t  tranfer_20ep_l2+dropout.h5\r\n",
            "data_s_forge1\t       data_siamese.h5\t\t  tranfer_20ep_l2reg.h5\r\n",
            "data_s_forge1.h5       data_siamese.pickle\t  tranfer_20ep_overfit.h5\r\n",
            "data_s_gen1\t       model.ipynb\t\t  trial.ipynb\r\n",
            "data_s_gen1.h5\t       mycode.ipynb\r\n"
          ],
          "name": "stdout"
        }
      ]
    },
    {
      "metadata": {
        "id": "xqZd_7L3mbAc",
        "colab_type": "code",
        "colab": {
          "autoexec": {
            "startup": false,
            "wait_interval": 0
          }
        }
      },
      "cell_type": "code",
      "source": [
        ""
      ],
      "execution_count": 0,
      "outputs": []
    },
    {
      "metadata": {
        "id": "itrGhFi18bpl",
        "colab_type": "code",
        "colab": {
          "autoexec": {
            "startup": false,
            "wait_interval": 0
          }
        }
      },
      "cell_type": "code",
      "source": [
        "import numpy as np\n",
        "from PIL import Image\n",
        "import pickle\n",
        "import os\n",
        "import pickle\n",
        "import cv2"
      ],
      "execution_count": 0,
      "outputs": []
    },
    {
      "metadata": {
        "id": "TD2VXPjp8szA",
        "colab_type": "code",
        "colab": {
          "autoexec": {
            "startup": false,
            "wait_interval": 0
          }
        }
      },
      "cell_type": "code",
      "source": [
        "def Center(img, new_height, new_width):\n",
        "    cImg = 255*np.ones((new_height,new_width,1))\n",
        "    width =  np.size(img,1)\n",
        "    height = np.size(img,0)\n",
        "\n",
        "    left = int((new_width - width)/2.)\n",
        "    top = int(((new_height - height)/2.))\n",
        "    right = int(((width + new_width)/2.))\n",
        "    bottom = int(((height + new_height)/2.))\n",
        "    cImg[top:bottom, left:right,:] = img\n",
        "    return cImg"
      ],
      "execution_count": 0,
      "outputs": []
    },
    {
      "metadata": {
        "id": "v6dLPaCB9W6M",
        "colab_type": "code",
        "colab": {
          "autoexec": {
            "startup": false,
            "wait_interval": 0
          }
        }
      },
      "cell_type": "code",
      "source": [
        "path = os.listdir('trainingSet/OfflineSignatures/Chinese/TrainingSet/Offline Forgeries')\n",
        "path.sort(key = lambda item: item[5:7])"
      ],
      "execution_count": 0,
      "outputs": []
    },
    {
      "metadata": {
        "id": "F-QMI5CFBicU",
        "colab_type": "code",
        "colab": {
          "autoexec": {
            "startup": false,
            "wait_interval": 0
          }
        }
      },
      "cell_type": "code",
      "source": [
        "str.split?"
      ],
      "execution_count": 0,
      "outputs": []
    },
    {
      "metadata": {
        "id": "njxB_F2u9j1K",
        "colab_type": "code",
        "colab": {
          "autoexec": {
            "startup": false,
            "wait_interval": 0
          },
          "base_uri": "https://localhost:8080/",
          "height": 5797
        },
        "outputId": "6917be96-f321-4b13-b107-7d6313c1b62d",
        "executionInfo": {
          "status": "ok",
          "timestamp": 1526577113027,
          "user_tz": -330,
          "elapsed": 3635,
          "user": {
            "displayName": "Vaibhav Jade",
            "photoUrl": "https://lh3.googleusercontent.com/a/default-user=s128",
            "userId": "112426218802661198208"
          }
        }
      },
      "cell_type": "code",
      "source": [
        "path"
      ],
      "execution_count": 46,
      "outputs": [
        {
          "output_type": "execute_result",
          "data": {
            "text/plain": [
              "['0109001_8.png',\n",
              " '0116001_1.png',\n",
              " '0116001_6.png',\n",
              " '0116001_8.png',\n",
              " '0109001_1.png',\n",
              " '0109001_6.png',\n",
              " '0113001_11.png',\n",
              " '0116001_11.png',\n",
              " '0113001_4.png',\n",
              " '0113001_3.png',\n",
              " '0109001_11.png',\n",
              " '0109001_3.png',\n",
              " '0109001_4.png',\n",
              " '0116001_3.png',\n",
              " '0116001_4.png',\n",
              " '0113001_10.png',\n",
              " '0109001_12.png',\n",
              " '0109001_7.png',\n",
              " '0116001_9.png',\n",
              " '0116001_7.png',\n",
              " '0109001_9.png',\n",
              " '0113001_2.png',\n",
              " '0116001_10.png',\n",
              " '0113001_5.png',\n",
              " '0116001_5.png',\n",
              " '0116001_2.png',\n",
              " '0109001_5.png',\n",
              " '0109001_2.png',\n",
              " '0109001_10.png',\n",
              " '0113001_12.png',\n",
              " '0113001_8.png',\n",
              " '0113001_6.png',\n",
              " '0113001_1.png',\n",
              " '0116001_12.png',\n",
              " '0113001_7.png',\n",
              " '0113001_9.png',\n",
              " '0116002_8.png',\n",
              " '0103002_2.png',\n",
              " '0109002_10.png',\n",
              " '0103002_11.png',\n",
              " '0116002_12.png',\n",
              " '0116002_9.png',\n",
              " '0109002_7.png',\n",
              " '0116002_7.png',\n",
              " '0103002_9.png',\n",
              " '0103002_13.png',\n",
              " '0103002_7.png',\n",
              " '0109002_11.png',\n",
              " '0103002_10.png',\n",
              " '0103002_3.png',\n",
              " '0103002_4.png',\n",
              " '0116002_6.png',\n",
              " '0116002_1.png',\n",
              " '0109002_8.png',\n",
              " '0109002_6.png',\n",
              " '0109002_1.png',\n",
              " '0103002_1.png',\n",
              " '0103002_6.png',\n",
              " '0103002_8.png',\n",
              " '0103002_12.png',\n",
              " '0116002_2.png',\n",
              " '0116002_5.png',\n",
              " '0109002_2.png',\n",
              " '0109002_5.png',\n",
              " '0116002_10.png',\n",
              " '0116002_11.png',\n",
              " '0109002_4.png',\n",
              " '0109002_3.png',\n",
              " '0116002_4.png',\n",
              " '0116002_3.png',\n",
              " '0109003_12.png',\n",
              " '0113003_3.png',\n",
              " '0113003_4.png',\n",
              " '0109003_7.png',\n",
              " '0109003_9.png',\n",
              " '0100003_12.png',\n",
              " '0113003_5.png',\n",
              " '0113003_2.png',\n",
              " '0100003_6.png',\n",
              " '0100003_1.png',\n",
              " '0113003_11.png',\n",
              " '0100003_8.png',\n",
              " '0109003_2.png',\n",
              " '0109003_5.png',\n",
              " '0109003_8.png',\n",
              " '0109003_6.png',\n",
              " '0109003_1.png',\n",
              " '0100003_9.png',\n",
              " '0113003_10.png',\n",
              " '0100003_7.png',\n",
              " '0109003_4.png',\n",
              " '0109003_3.png',\n",
              " '0109003_11.png',\n",
              " '0100003_4.png',\n",
              " '0100003_3.png',\n",
              " '0100003_10.png',\n",
              " '0113003_7.png',\n",
              " '0113003_9.png',\n",
              " '0113003_8.png',\n",
              " '0113003_1.png',\n",
              " '0100003_11.png',\n",
              " '0113003_6.png',\n",
              " '0100003_2.png',\n",
              " '0100003_5.png',\n",
              " '0109003_10.png',\n",
              " '0113003_12.png',\n",
              " '0101004_2.png',\n",
              " '0112004_6.png',\n",
              " '0101004_11.png',\n",
              " '0112004_1.png',\n",
              " '0112004_8.png',\n",
              " '0109004_3.png',\n",
              " '0109004_4.png',\n",
              " '0112004_9.png',\n",
              " '0101004_10.png',\n",
              " '0112004_7.png',\n",
              " '0101004_3.png',\n",
              " '0101004_4.png',\n",
              " '0109004_11.png',\n",
              " '0109004_8.png',\n",
              " '0109004_5.png',\n",
              " '0109004_2.png',\n",
              " '0109004_10.png',\n",
              " '0112004_12.png',\n",
              " '0101004_5.png',\n",
              " '0109004_9.png',\n",
              " '0109004_7.png',\n",
              " '0101004_8.png',\n",
              " '0112004_11.png',\n",
              " '0101004_1.png',\n",
              " '0101004_6.png',\n",
              " '0101004_12.png',\n",
              " '0112004_2.png',\n",
              " '0112004_5.png',\n",
              " '0109004_1.png',\n",
              " '0109004_6.png',\n",
              " '0112004_4.png',\n",
              " '0112004_3.png',\n",
              " '0101004_7.png',\n",
              " '0109004_12.png',\n",
              " '0101004_9.png',\n",
              " '0112004_10.png',\n",
              " '0113005_6.png',\n",
              " '0109005_12.png',\n",
              " '0113005_1.png',\n",
              " '0113005_10.png',\n",
              " '0113005_8.png',\n",
              " '0110005_5.png',\n",
              " '0110005_10.png',\n",
              " '0110005_2.png',\n",
              " '0109005_3.png',\n",
              " '0109005_4.png',\n",
              " '0110005_12.png',\n",
              " '0113005_12.png',\n",
              " '0113005_4.png',\n",
              " '0109005_10.png',\n",
              " '0113005_3.png',\n",
              " '0110005_11.png',\n",
              " '0110005_3.png',\n",
              " '0110005_4.png',\n",
              " '0113005_11.png',\n",
              " '0113005_9.png',\n",
              " '0109005_13.png',\n",
              " '0109005_14.png',\n",
              " '0113005_7.png',\n",
              " '0109005_5.png',\n",
              " '0109005_11.png',\n",
              " '0113005_2.png',\n",
              " '0113005_5.png',\n",
              " '0110005_1.png',\n",
              " '0110005_6.png',\n",
              " '0110005_8.png',\n",
              " '0109005_8.png',\n",
              " '0110005_9.png',\n",
              " '0110005_7.png',\n",
              " '0109005_9.png',\n",
              " '0104006_11.png',\n",
              " '0109006_2.png',\n",
              " '0109006_5.png',\n",
              " '0104006_9.png',\n",
              " '0104006_7.png',\n",
              " '0109006_11.png',\n",
              " '0113006_9.png',\n",
              " '0113006_7.png',\n",
              " '0113006_11.png',\n",
              " '0109006_9.png',\n",
              " '0109006_7.png',\n",
              " '0104006_1.png',\n",
              " '0109006_10.png',\n",
              " '0104006_6.png',\n",
              " '0113006_12.png',\n",
              " '0104006_8.png',\n",
              " '0109006_4.png',\n",
              " '0109006_3.png',\n",
              " '0113006_1.png',\n",
              " '0113006_6.png',\n",
              " '0113006_8.png',\n",
              " '0109006_1.png',\n",
              " '0109006_8.png',\n",
              " '0113006_10.png',\n",
              " '0104006_3.png',\n",
              " '0109006_12.png',\n",
              " '0104006_4.png',\n",
              " '0113006_5.png',\n",
              " '0113006_2.png',\n",
              " '0104006_12.png',\n",
              " '0104006_5.png',\n",
              " '0104006_2.png',\n",
              " '0113006_3.png',\n",
              " '0113006_4.png',\n",
              " '0109006_6.png',\n",
              " '0116007_4.png',\n",
              " '0116007_3.png',\n",
              " '0113007_11.png',\n",
              " '0109007_4.png',\n",
              " '0109007_3.png',\n",
              " '0116007_10.png',\n",
              " '0113007_9.png',\n",
              " '0113007_7.png',\n",
              " '0109007_2.png',\n",
              " '0109007_5.png',\n",
              " '0116007_2.png',\n",
              " '0113007_10.png',\n",
              " '0116007_5.png',\n",
              " '0116007_12.png',\n",
              " '0113007_1.png',\n",
              " '0113007_6.png',\n",
              " '0113007_8.png',\n",
              " '0116007_11.png',\n",
              " '0113007_3.png',\n",
              " '0113007_4.png',\n",
              " '0109007_9.png',\n",
              " '0113007_12.png',\n",
              " '0116007_7.png',\n",
              " '0109007_10.png',\n",
              " '0116007_9.png',\n",
              " '0109007_7.png',\n",
              " '0113007_5.png',\n",
              " '0113007_2.png',\n",
              " '0109007_6.png',\n",
              " '0109007_11.png',\n",
              " '0116007_8.png',\n",
              " '0116007_6.png',\n",
              " '0116007_1.png',\n",
              " '0109007_8.png',\n",
              " '0116008_11.png',\n",
              " '0114008_1.png',\n",
              " '0114008_6.png',\n",
              " '0108008_12.png',\n",
              " '0114008_8.png',\n",
              " '0108008_2.png',\n",
              " '0116008_4.png',\n",
              " '0108008_5.png',\n",
              " '0116008_3.png',\n",
              " '0116008_10.png',\n",
              " '0114008_10.png',\n",
              " '0116008_8.png',\n",
              " '0114008_3.png',\n",
              " '0108008_10.png',\n",
              " '0114008_4.png',\n",
              " '0108008_4.png',\n",
              " '0116008_2.png',\n",
              " '0108008_3.png',\n",
              " '0116008_5.png',\n",
              " '0114008_9.png',\n",
              " '0114008_7.png',\n",
              " '0114008_11.png',\n",
              " '0108008_11.png',\n",
              " '0114008_5.png',\n",
              " '0114008_2.png',\n",
              " '0116008_9.png',\n",
              " '0108008_8.png',\n",
              " '0108008_6.png',\n",
              " '0108008_1.png',\n",
              " '0116008_7.png',\n",
              " '0114008_12.png',\n",
              " '0116008_12.png',\n",
              " '0116008_6.png',\n",
              " '0108008_7.png',\n",
              " '0116008_1.png',\n",
              " '0108008_9.png',\n",
              " '0110009_12.png',\n",
              " '0113009_8.png',\n",
              " '0113009_1.png',\n",
              " '0113009_6.png',\n",
              " '0110009_2.png',\n",
              " '0110009_5.png',\n",
              " '0116009_4.png',\n",
              " '0116009_3.png',\n",
              " '0110009_9.png',\n",
              " '0116009_11.png',\n",
              " '0113009_3.png',\n",
              " '0113009_4.png',\n",
              " '0110009_4.png',\n",
              " '0110009_3.png',\n",
              " '0116009_12.png',\n",
              " '0113009_7.png',\n",
              " '0113009_9.png',\n",
              " '0116009_2.png',\n",
              " '0116009_5.png',\n",
              " '0113009_12.png',\n",
              " '0113009_5.png',\n",
              " '0113009_2.png',\n",
              " '0116009_10.png',\n",
              " '0110009_8.png',\n",
              " '0110009_6.png',\n",
              " '0110009_1.png',\n",
              " '0113009_11.png',\n",
              " '0116009_6.png',\n",
              " '0116009_1.png',\n",
              " '0116009_8.png',\n",
              " '0110009_11.png',\n",
              " '0110009_7.png',\n",
              " '0110009_10.png',\n",
              " '0116009_9.png',\n",
              " '0116009_7.png',\n",
              " '0113009_10.png',\n",
              " '0112010_9.png',\n",
              " '0112010_7.png',\n",
              " '0112010_6.png',\n",
              " '0112010_1.png',\n",
              " '0112010_8.png',\n",
              " '0111010_5.png',\n",
              " '0111010_2.png',\n",
              " '0111010_11.png',\n",
              " '0112010_12.png',\n",
              " '0111010_12.png',\n",
              " '0111010_3.png',\n",
              " '0111010_4.png',\n",
              " '0111010_10.png',\n",
              " '0112010_10.png',\n",
              " '0111010_9.png',\n",
              " '0111010_7.png',\n",
              " '0112010_4.png',\n",
              " '0112010_3.png',\n",
              " '0112010_11.png',\n",
              " '0112010_5.png',\n",
              " '0112010_2.png',\n",
              " '0111010_6.png',\n",
              " '0111010_8.png']"
            ]
          },
          "metadata": {
            "tags": []
          },
          "execution_count": 46
        }
      ]
    },
    {
      "metadata": {
        "id": "urhFD1C98s42",
        "colab_type": "code",
        "colab": {
          "autoexec": {
            "startup": false,
            "wait_interval": 0
          },
          "base_uri": "https://localhost:8080/",
          "height": 3706
        },
        "outputId": "d9f70481-1aed-4a17-b9f6-832e45df5abd"
      },
      "cell_type": "code",
      "source": [
        "x1 = []\n",
        "\n",
        "a = b = 0 \n",
        "path = os.listdir('trainingSet/OfflineSignatures/Chinese/TrainingSet/Offline Forgeries/')\n",
        "path.sort(key = lambda x: x[5:7])\n",
        "\n",
        "for i in range(10):\n",
        "  y = []\n",
        "  for j in range(b,len(path)):\n",
        "    if(path[j][5:7] == str(i+1).zfill(2)):\n",
        "        img = cv2.imread('trainingSet/OfflineSignatures/Chinese/TrainingSet/Offline Forgeries/'+path[j]+'')\n",
        "        img  = cv2.cvtColor(img,cv2.COLOR_RGB2GRAY)\n",
        "        arr = np.asarray(img)\n",
        "        arr = cv2.resize(arr,(1117,551),interpolation= cv2.INTER_AREA)\n",
        "        y.append(arr)\n",
        "        a = a + 1\n",
        "        print(a)\n",
        "        if(a==235):\n",
        "          x1.append(np.asarray(y))\n",
        "    else:\n",
        "      print('...............')\n",
        "      x1.append(np.asarray(y))\n",
        "      b = a\n",
        "      break"
      ],
      "execution_count": 0,
      "outputs": [
        {
          "output_type": "stream",
          "text": [
            "1\n",
            "2\n",
            "3\n",
            "4\n",
            "5\n",
            "6\n",
            "7\n",
            "8\n",
            "9\n",
            "10\n",
            "11\n",
            "12\n",
            "13\n",
            "14\n",
            "15\n",
            "16\n",
            "17\n",
            "18\n",
            "19\n",
            "20\n",
            "21\n",
            "22\n",
            "23\n",
            "24\n",
            "25\n",
            "26\n",
            "27\n",
            "28\n",
            "29\n",
            "30\n",
            "31\n",
            "32\n",
            "33\n",
            "34\n",
            "35\n",
            "36\n",
            "...............\n",
            "37\n",
            "38\n",
            "39\n",
            "40\n",
            "41\n",
            "42\n",
            "43\n",
            "44\n",
            "45\n",
            "46\n",
            "47\n",
            "48\n",
            "49\n",
            "50\n",
            "51\n",
            "52\n",
            "53\n",
            "54\n",
            "55\n",
            "56\n",
            "57\n",
            "58\n",
            "59\n",
            "60\n",
            "61\n",
            "62\n",
            "63\n",
            "64\n",
            "65\n",
            "66\n",
            "67\n",
            "68\n",
            "69\n",
            "70\n",
            "...............\n",
            "71\n",
            "72\n",
            "73\n",
            "74\n",
            "75\n",
            "76\n",
            "77\n",
            "78\n",
            "79\n",
            "80\n",
            "81\n",
            "82\n",
            "83\n",
            "84\n",
            "85\n",
            "86\n",
            "87\n",
            "88\n",
            "89\n",
            "90\n",
            "91\n",
            "92\n",
            "93\n",
            "94\n",
            "95\n",
            "96\n",
            "97\n",
            "98\n",
            "99\n",
            "100\n",
            "101\n",
            "102\n",
            "103\n",
            "104\n",
            "105\n",
            "106\n",
            "...............\n",
            "107\n",
            "108\n",
            "109\n",
            "110\n",
            "111\n",
            "112\n",
            "113\n",
            "114\n",
            "115\n",
            "116\n",
            "117\n",
            "118\n",
            "119\n",
            "120\n",
            "121\n",
            "122\n",
            "123\n",
            "124\n",
            "125\n",
            "126\n",
            "127\n",
            "128\n",
            "129\n",
            "130\n",
            "131\n",
            "132\n",
            "133\n",
            "134\n",
            "135\n",
            "136\n",
            "137\n",
            "138\n",
            "139\n",
            "140\n",
            "141\n",
            "142\n",
            "...............\n",
            "143\n",
            "144\n",
            "145\n",
            "146\n",
            "147\n",
            "148\n",
            "149\n",
            "150\n",
            "151\n",
            "152\n",
            "153\n",
            "154\n",
            "155\n",
            "156\n",
            "157\n",
            "158\n",
            "159\n",
            "160\n",
            "161\n",
            "162\n",
            "163\n",
            "164\n",
            "165\n",
            "166\n",
            "167\n",
            "168\n",
            "169\n",
            "170\n",
            "171\n",
            "172\n",
            "173\n",
            "174\n",
            "175\n",
            "176\n",
            "...............\n",
            "177\n",
            "178\n",
            "179\n",
            "180\n",
            "181\n",
            "182\n",
            "183\n",
            "184\n",
            "185\n",
            "186\n",
            "187\n",
            "188\n",
            "189\n",
            "190\n",
            "191\n",
            "192\n",
            "193\n",
            "194\n",
            "195\n",
            "196\n",
            "197\n",
            "198\n",
            "199\n",
            "200\n",
            "201\n",
            "202\n",
            "203\n",
            "204\n",
            "205\n",
            "206\n",
            "207\n",
            "208\n",
            "209\n",
            "210\n",
            "211\n",
            "...............\n"
          ],
          "name": "stdout"
        }
      ]
    },
    {
      "metadata": {
        "id": "OpBEwEPJi2fy",
        "colab_type": "code",
        "colab": {
          "autoexec": {
            "startup": false,
            "wait_interval": 0
          },
          "base_uri": "https://localhost:8080/",
          "height": 4165
        },
        "outputId": "ae475466-ee8e-445e-cc8a-f0423c3cb483",
        "executionInfo": {
          "status": "ok",
          "timestamp": 1528128419567,
          "user_tz": -330,
          "elapsed": 8791,
          "user": {
            "displayName": "Vaibhav Jade",
            "photoUrl": "https://lh3.googleusercontent.com/a/default-user=s128",
            "userId": "112426218802661198208"
          }
        }
      },
      "cell_type": "code",
      "source": [
        "x = []\n",
        "\n",
        "a = b = 0 \n",
        "path = os.listdir('trainingSet/OfflineSignatures/Chinese/TrainingSet/Offline Genuine/')\n",
        "path.sort(key = lambda sample: sample[1:3])\n",
        "\n",
        "for i in range(10):\n",
        "  y = []\n",
        "  for j in range(b,len(path)):\n",
        "    if(path[j][1:3] == str(i+1).zfill(2)):\n",
        "        img = cv2.imread('trainingSet/OfflineSignatures/Chinese/TrainingSet/Offline Genuine/'+path[j]+'')\n",
        "        img  = cv2.cvtColor(img,cv2.COLOR_RGB2GRAY)\n",
        "        arr = np.asarray(img)\n",
        "        arr = cv2.resize(arr,(1117,551),interpolation= cv2.INTER_AREA)\n",
        "        y.append(arr)\n",
        "        a = a + 1\n",
        "        print(a)\n",
        "        if(a==235):\n",
        "          x.append(np.asarray(y))\n",
        "    else:\n",
        "      print('...............')\n",
        "      x.append(np.asarray(y))\n",
        "      b = a\n",
        "      break"
      ],
      "execution_count": 26,
      "outputs": [
        {
          "output_type": "stream",
          "text": [
            "1\n",
            "2\n",
            "3\n",
            "4\n",
            "5\n",
            "6\n",
            "7\n",
            "8\n",
            "9\n",
            "10\n",
            "11\n",
            "12\n",
            "13\n",
            "14\n",
            "15\n",
            "16\n",
            "17\n",
            "18\n",
            "19\n",
            "20\n",
            "21\n",
            "22\n",
            "23\n",
            "24\n",
            "...............\n",
            "25\n",
            "26\n",
            "27\n",
            "28\n",
            "29\n",
            "30\n",
            "31\n",
            "32\n",
            "33\n",
            "34\n",
            "35\n",
            "36\n",
            "37\n",
            "38\n",
            "39\n",
            "40\n",
            "41\n",
            "42\n",
            "43\n",
            "44\n",
            "45\n",
            "46\n",
            "47\n",
            "48\n",
            "...............\n",
            "49\n",
            "50\n",
            "51\n",
            "52\n",
            "53\n",
            "54\n",
            "55\n",
            "56\n",
            "57\n",
            "58\n",
            "59\n",
            "60\n",
            "61\n",
            "62\n",
            "63\n",
            "64\n",
            "65\n",
            "66\n",
            "67\n",
            "68\n",
            "69\n",
            "70\n",
            "71\n",
            "72\n",
            "...............\n",
            "73\n",
            "74\n",
            "75\n",
            "76\n",
            "77\n",
            "78\n",
            "79\n",
            "80\n",
            "81\n",
            "82\n",
            "83\n",
            "84\n",
            "85\n",
            "86\n",
            "87\n",
            "88\n",
            "89\n",
            "90\n",
            "91\n",
            "92\n",
            "93\n",
            "94\n",
            "95\n",
            "96\n",
            "...............\n",
            "97\n",
            "98\n",
            "99\n",
            "100\n",
            "101\n",
            "102\n",
            "103\n",
            "104\n",
            "105\n",
            "106\n",
            "107\n",
            "108\n",
            "109\n",
            "110\n",
            "111\n",
            "112\n",
            "113\n",
            "114\n",
            "115\n",
            "116\n",
            "117\n",
            "...............\n",
            "118\n",
            "119\n",
            "120\n",
            "121\n",
            "122\n",
            "123\n",
            "124\n",
            "125\n",
            "126\n",
            "127\n",
            "128\n",
            "129\n",
            "130\n",
            "131\n",
            "132\n",
            "133\n",
            "134\n",
            "135\n",
            "136\n",
            "137\n",
            "138\n",
            "139\n",
            "...............\n",
            "140\n",
            "141\n",
            "142\n",
            "143\n",
            "144\n",
            "145\n",
            "146\n",
            "147\n",
            "148\n",
            "149\n",
            "150\n",
            "151\n",
            "152\n",
            "153\n",
            "154\n",
            "155\n",
            "156\n",
            "157\n",
            "158\n",
            "159\n",
            "160\n",
            "161\n",
            "162\n",
            "163\n",
            "...............\n",
            "164\n",
            "165\n",
            "166\n",
            "167\n",
            "168\n",
            "169\n",
            "170\n",
            "171\n",
            "172\n",
            "173\n",
            "174\n",
            "175\n",
            "176\n",
            "177\n",
            "178\n",
            "179\n",
            "180\n",
            "181\n",
            "182\n",
            "183\n",
            "184\n",
            "185\n",
            "186\n",
            "187\n",
            "...............\n",
            "188\n",
            "189\n",
            "190\n",
            "191\n",
            "192\n",
            "193\n",
            "194\n",
            "195\n",
            "196\n",
            "197\n",
            "198\n",
            "199\n",
            "200\n",
            "201\n",
            "202\n",
            "203\n",
            "204\n",
            "205\n",
            "206\n",
            "207\n",
            "208\n",
            "209\n",
            "210\n",
            "211\n",
            "...............\n",
            "212\n",
            "213\n",
            "214\n",
            "215\n",
            "216\n",
            "217\n",
            "218\n",
            "219\n",
            "220\n",
            "221\n",
            "222\n",
            "223\n",
            "224\n",
            "225\n",
            "226\n",
            "227\n",
            "228\n",
            "229\n",
            "230\n",
            "231\n",
            "232\n",
            "233\n",
            "234\n",
            "235\n"
          ],
          "name": "stdout"
        }
      ]
    },
    {
      "metadata": {
        "id": "YS0Hymeuiw1h",
        "colab_type": "code",
        "colab": {
          "autoexec": {
            "startup": false,
            "wait_interval": 0
          },
          "base_uri": "https://localhost:8080/",
          "height": 34
        },
        "outputId": "75dad458-a991-4e25-a267-0b8e4f22b164",
        "executionInfo": {
          "status": "ok",
          "timestamp": 1528128680802,
          "user_tz": -330,
          "elapsed": 2229,
          "user": {
            "displayName": "Vaibhav Jade",
            "photoUrl": "https://lh3.googleusercontent.com/a/default-user=s128",
            "userId": "112426218802661198208"
          }
        }
      },
      "cell_type": "code",
      "source": [
        "x1[0].shape"
      ],
      "execution_count": 30,
      "outputs": [
        {
          "output_type": "execute_result",
          "data": {
            "text/plain": [
              "(36, 551, 1117)"
            ]
          },
          "metadata": {
            "tags": []
          },
          "execution_count": 30
        }
      ]
    },
    {
      "metadata": {
        "id": "X_dtnQJITHnl",
        "colab_type": "code",
        "colab": {
          "autoexec": {
            "startup": false,
            "wait_interval": 0
          },
          "base_uri": "https://localhost:8080/",
          "height": 34
        },
        "outputId": "59a1fa93-ee48-449b-b7f0-617769c27d7a",
        "executionInfo": {
          "status": "ok",
          "timestamp": 1528128816054,
          "user_tz": -330,
          "elapsed": 1294,
          "user": {
            "displayName": "Vaibhav Jade",
            "photoUrl": "https://lh3.googleusercontent.com/a/default-user=s128",
            "userId": "112426218802661198208"
          }
        }
      },
      "cell_type": "code",
      "source": [
        "len(x1)"
      ],
      "execution_count": 33,
      "outputs": [
        {
          "output_type": "execute_result",
          "data": {
            "text/plain": [
              "10"
            ]
          },
          "metadata": {
            "tags": []
          },
          "execution_count": 33
        }
      ]
    },
    {
      "metadata": {
        "id": "2ibGtNyd8s-Y",
        "colab_type": "code",
        "colab": {
          "autoexec": {
            "startup": false,
            "wait_interval": 0
          },
          "base_uri": "https://localhost:8080/",
          "height": 272
        },
        "outputId": "31364357-f912-4cd5-ade2-de3d76fcd0ef",
        "executionInfo": {
          "status": "ok",
          "timestamp": 1526581412775,
          "user_tz": -330,
          "elapsed": 9171,
          "user": {
            "displayName": "Vaibhav Jade",
            "photoUrl": "https://lh3.googleusercontent.com/a/default-user=s128",
            "userId": "112426218802661198208"
          }
        }
      },
      "cell_type": "code",
      "source": [
        "from matplotlib import pyplot as plt\n",
        "plt.imshow(np.uint8(x[2][0]))\n",
        "plt.show()"
      ],
      "execution_count": 66,
      "outputs": [
        {
          "output_type": "display_data",
          "data": {
            "image/png": "[encoded data removed]",
            "text/plain": [
              "<matplotlib.figure.Figure at 0x7f20e27344e0>"
            ]
          },
          "metadata": {
            "tags": []
          }
        }
      ]
    },
    {
      "metadata": {
        "id": "5kWFLeskUOcO",
        "colab_type": "code",
        "colab": {
          "autoexec": {
            "startup": false,
            "wait_interval": 0
          }
        }
      },
      "cell_type": "code",
      "source": [
        "import pickle"
      ],
      "execution_count": 0,
      "outputs": []
    },
    {
      "metadata": {
        "id": "3RwhZhDJWfc6",
        "colab_type": "code",
        "colab": {
          "autoexec": {
            "startup": false,
            "wait_interval": 0
          }
        }
      },
      "cell_type": "code",
      "source": [
        "x = np.asarray(x)\n",
        "x1 = np.asarray(x1)"
      ],
      "execution_count": 0,
      "outputs": []
    },
    {
      "metadata": {
        "id": "AIYtLAVlmMmB",
        "colab_type": "code",
        "colab": {
          "autoexec": {
            "startup": false,
            "wait_interval": 0
          },
          "base_uri": "https://localhost:8080/",
          "height": 163
        },
        "outputId": "71cd51ab-54ff-4256-f316-442d03d0204a",
        "executionInfo": {
          "status": "error",
          "timestamp": 1528129187890,
          "user_tz": -330,
          "elapsed": 1308,
          "user": {
            "displayName": "Vaibhav Jade",
            "photoUrl": "https://lh3.googleusercontent.com/a/default-user=s128",
            "userId": "112426218802661198208"
          }
        }
      },
      "cell_type": "code",
      "source": [
        "x.shape"
      ],
      "execution_count": 3,
      "outputs": [
        {
          "output_type": "error",
          "ename": "NameError",
          "evalue": "ignored",
          "traceback": [
            "\u001b[0;31m---------------------------------------------------------------------------\u001b[0m",
            "\u001b[0;31mNameError\u001b[0m                                 Traceback (most recent call last)",
            "\u001b[0;32m<ipython-input-3-9f2b259887ef>\u001b[0m in \u001b[0;36m<module>\u001b[0;34m()\u001b[0m\n\u001b[0;32m----> 1\u001b[0;31m \u001b[0mx\u001b[0m\u001b[0;34m.\u001b[0m\u001b[0mshape\u001b[0m\u001b[0;34m\u001b[0m\u001b[0m\n\u001b[0m",
            "\u001b[0;31mNameError\u001b[0m: name 'x' is not defined"
          ]
        }
      ]
    },
    {
      "metadata": {
        "id": "lyLDoCZZ8b3l",
        "colab_type": "code",
        "colab": {
          "autoexec": {
            "startup": false,
            "wait_interval": 0
          }
        }
      },
      "cell_type": "code",
      "source": [
        "hf = open('data_siamese_gen.pickle', 'wb')\n",
        "pickle.dump(x,hf)\n",
        "hf.close()"
      ],
      "execution_count": 0,
      "outputs": []
    },
    {
      "metadata": {
        "id": "gv4nWZHBWnRC",
        "colab_type": "code",
        "colab": {
          "autoexec": {
            "startup": false,
            "wait_interval": 0
          }
        }
      },
      "cell_type": "code",
      "source": [
        "hf = open('data_siamese_forge.pickle', 'wb')\n",
        "pickle.dump(x1,hf)\n",
        "hf.close()"
      ],
      "execution_count": 0,
      "outputs": []
    },
    {
      "metadata": {
        "id": "fARL-pm0lGoR",
        "colab_type": "code",
        "colab": {
          "autoexec": {
            "startup": false,
            "wait_interval": 0
          },
          "base_uri": "https://localhost:8080/",
          "height": 136
        },
        "outputId": "45e12437-f899-4e93-a324-0f7f101436d6",
        "executionInfo": {
          "status": "ok",
          "timestamp": 1528129319413,
          "user_tz": -330,
          "elapsed": 2038,
          "user": {
            "displayName": "Vaibhav Jade",
            "photoUrl": "https://lh3.googleusercontent.com/a/default-user=s128",
            "userId": "112426218802661198208"
          }
        }
      },
      "cell_type": "code",
      "source": [
        "!ls"
      ],
      "execution_count": 8,
      "outputs": [
        {
          "output_type": "stream",
          "text": [
            "100epochs_3channel.h5  data_s_gen.h5\t\t  Testdata_SigComp2011\r\n",
            "data_1.h5\t       data_siamese_forge.pickle  trainingSet\r\n",
            "data.h5\t\t       data_siamese_gen.pickle\t  tranfer_20ep_l2+dropout.h5\r\n",
            "data_s_forge1\t       data_siamese.h5\t\t  tranfer_20ep_l2reg.h5\r\n",
            "data_s_forge1.h5       data_siamese.pickle\t  tranfer_20ep_overfit.h5\r\n",
            "data_s_gen1\t       model.ipynb\t\t  trial.ipynb\r\n",
            "data_s_gen1.h5\t       mycode.ipynb\r\n"
          ],
          "name": "stdout"
        }
      ]
    },
    {
      "metadata": {
        "id": "dkVXvs0d8cDU",
        "colab_type": "code",
        "colab": {
          "autoexec": {
            "startup": false,
            "wait_interval": 0
          },
          "base_uri": "https://localhost:8080/",
          "height": 197
        },
        "outputId": "854833de-7cc5-4cf5-cfa8-57929ce45da1",
        "executionInfo": {
          "status": "error",
          "timestamp": 1528129303443,
          "user_tz": -330,
          "elapsed": 2781,
          "user": {
            "displayName": "Vaibhav Jade",
            "photoUrl": "https://lh3.googleusercontent.com/a/default-user=s128",
            "userId": "112426218802661198208"
          }
        }
      },
      "cell_type": "code",
      "source": [
        "import pickle\n",
        "pickle_off = open(\"data_siamese.pickle\",\"rb\")\n",
        "x = pickle.load(pickle_off)"
      ],
      "execution_count": 7,
      "outputs": [
        {
          "output_type": "error",
          "ename": "EOFError",
          "evalue": "ignored",
          "traceback": [
            "\u001b[0;31m---------------------------------------------------------------------------\u001b[0m",
            "\u001b[0;31mEOFError\u001b[0m                                  Traceback (most recent call last)",
            "\u001b[0;32m<ipython-input-7-62cf28564f04>\u001b[0m in \u001b[0;36m<module>\u001b[0;34m()\u001b[0m\n\u001b[1;32m      1\u001b[0m \u001b[0;32mimport\u001b[0m \u001b[0mpickle\u001b[0m\u001b[0;34m\u001b[0m\u001b[0m\n\u001b[1;32m      2\u001b[0m \u001b[0mpickle_off\u001b[0m \u001b[0;34m=\u001b[0m \u001b[0mopen\u001b[0m\u001b[0;34m(\u001b[0m\u001b[0;34m\"data_siamese.pickle\"\u001b[0m\u001b[0;34m,\u001b[0m\u001b[0;34m\"rb\"\u001b[0m\u001b[0;34m)\u001b[0m\u001b[0;34m\u001b[0m\u001b[0m\n\u001b[0;32m----> 3\u001b[0;31m \u001b[0mx\u001b[0m \u001b[0;34m=\u001b[0m \u001b[0mpickle\u001b[0m\u001b[0;34m.\u001b[0m\u001b[0mload\u001b[0m\u001b[0;34m(\u001b[0m\u001b[0mpickle_off\u001b[0m\u001b[0;34m)\u001b[0m\u001b[0;34m\u001b[0m\u001b[0m\n\u001b[0m",
            "\u001b[0;31mEOFError\u001b[0m: Ran out of input"
          ]
        }
      ]
    },
    {
      "metadata": {
        "id": "0hzjLIQKmrS-",
        "colab_type": "code",
        "colab": {
          "autoexec": {
            "startup": false,
            "wait_interval": 0
          }
        }
      },
      "cell_type": "code",
      "source": [
        ""
      ],
      "execution_count": 0,
      "outputs": []
    },
    {
      "metadata": {
        "id": "DjU_DTru8cdU",
        "colab_type": "code",
        "colab": {
          "autoexec": {
            "startup": false,
            "wait_interval": 0
          }
        }
      },
      "cell_type": "code",
      "source": [
        "pickle_off = open(\"data_siamese_forge.pickle\",\"rb\")\n",
        "forge = pickle.load(pickle_off)"
      ],
      "execution_count": 0,
      "outputs": []
    },
    {
      "metadata": {
        "id": "d4sDcntyzZa8",
        "colab_type": "code",
        "colab": {
          "autoexec": {
            "startup": false,
            "wait_interval": 0
          }
        }
      },
      "cell_type": "code",
      "source": [
        "from random import randint\n",
        "import numpy as np"
      ],
      "execution_count": 0,
      "outputs": []
    },
    {
      "metadata": {
        "id": "KleDj5FgLR5h",
        "colab_type": "code",
        "colab": {
          "autoexec": {
            "startup": false,
            "wait_interval": 0
          }
        }
      },
      "cell_type": "code",
      "source": [
        "import h5py"
      ],
      "execution_count": 0,
      "outputs": []
    },
    {
      "metadata": {
        "id": "AcJ1GHv-Leaq",
        "colab_type": "code",
        "colab": {
          "autoexec": {
            "startup": false,
            "wait_interval": 0
          }
        }
      },
      "cell_type": "code",
      "source": [
        "hf = h5py.File('data_s_gen1','w')\n",
        "gen = hf.get('dataset_1')\n",
        "hf.close()"
      ],
      "execution_count": 0,
      "outputs": []
    },
    {
      "metadata": {
        "id": "qQZ-KcOlLhtX",
        "colab_type": "code",
        "colab": {
          "autoexec": {
            "startup": false,
            "wait_interval": 0
          }
        }
      },
      "cell_type": "code",
      "source": [
        "hf = h5py.File('data_s_forge1','w')\n",
        "forge = hf.get('dataset_1')\n",
        "hf.close()"
      ],
      "execution_count": 0,
      "outputs": []
    },
    {
      "metadata": {
        "id": "WiW4j8k2d8CO",
        "colab_type": "code",
        "colab": {
          "autoexec": {
            "startup": false,
            "wait_interval": 0
          }
        }
      },
      "cell_type": "code",
      "source": [
        "gen = x\n",
        "forge = x1"
      ],
      "execution_count": 0,
      "outputs": []
    },
    {
      "metadata": {
        "id": "j8kRbhbDyNgV",
        "colab_type": "code",
        "colab": {
          "autoexec": {
            "startup": false,
            "wait_interval": 0
          }
        }
      },
      "cell_type": "code",
      "source": [
        "x = []\n",
        "for i in range(10):\n",
        "  for j in range(len(gen[i])):\n",
        "    for l in range(10):\n",
        "      y1 = []\n",
        "      y1.append(gen[i][j])\n",
        "      a = randint(0,len(gen[i])-1)\n",
        "      y1.append(gen[i][a])\n",
        "      k = randint(0,9)\n",
        "      if(k == i):\n",
        "        b = randint(0,len(forge[i])-1)\n",
        "        y1.append(forge[i][b])\n",
        "        y1 = np.asarray(y1)\n",
        "      else:\n",
        "        b = randint(0,len(gen[k])-1)\n",
        "        y1.append(gen[k][b])\n",
        "        y1 = np.asarray(y1)\n",
        "      x.append(y1)      "
      ],
      "execution_count": 0,
      "outputs": []
    },
    {
      "metadata": {
        "id": "k68j_YHByNoV",
        "colab_type": "code",
        "colab": {
          "autoexec": {
            "startup": false,
            "wait_interval": 0
          },
          "base_uri": "https://localhost:8080/",
          "height": 34
        },
        "outputId": "74bd89b5-8135-4493-b1d1-9db3b98010bf",
        "executionInfo": {
          "status": "ok",
          "timestamp": 1528129026605,
          "user_tz": -330,
          "elapsed": 1691,
          "user": {
            "displayName": "Vaibhav Jade",
            "photoUrl": "https://lh3.googleusercontent.com/a/default-user=s128",
            "userId": "112426218802661198208"
          }
        }
      },
      "cell_type": "code",
      "source": [
        "len(x)"
      ],
      "execution_count": 42,
      "outputs": [
        {
          "output_type": "execute_result",
          "data": {
            "text/plain": [
              "2350"
            ]
          },
          "metadata": {
            "tags": []
          },
          "execution_count": 42
        }
      ]
    },
    {
      "metadata": {
        "id": "mb9C1lFzyNyS",
        "colab_type": "code",
        "colab": {
          "autoexec": {
            "startup": false,
            "wait_interval": 0
          }
        }
      },
      "cell_type": "code",
      "source": [
        "x = np.asarray(x)"
      ],
      "execution_count": 0,
      "outputs": []
    },
    {
      "metadata": {
        "id": "zSbGGw1uyNvf",
        "colab_type": "code",
        "colab": {
          "autoexec": {
            "startup": false,
            "wait_interval": 0
          },
          "base_uri": "https://localhost:8080/",
          "height": 197
        },
        "outputId": "cb4aa336-4d53-4b30-ed3f-3c8898a7bb5f",
        "executionInfo": {
          "status": "error",
          "timestamp": 1528129130935,
          "user_tz": -330,
          "elapsed": 1401,
          "user": {
            "displayName": "Vaibhav Jade",
            "photoUrl": "https://lh3.googleusercontent.com/a/default-user=s128",
            "userId": "112426218802661198208"
          }
        }
      },
      "cell_type": "code",
      "source": [
        "hf = open('data_siamese.pickle', 'wb')\n",
        "pickle.dump(x,hf)\n",
        "hf.close()"
      ],
      "execution_count": 1,
      "outputs": [
        {
          "output_type": "error",
          "ename": "NameError",
          "evalue": "ignored",
          "traceback": [
            "\u001b[0;31m---------------------------------------------------------------------------\u001b[0m",
            "\u001b[0;31mNameError\u001b[0m                                 Traceback (most recent call last)",
            "\u001b[0;32m<ipython-input-1-0838c5f3832c>\u001b[0m in \u001b[0;36m<module>\u001b[0;34m()\u001b[0m\n\u001b[1;32m      1\u001b[0m \u001b[0mhf\u001b[0m \u001b[0;34m=\u001b[0m \u001b[0mopen\u001b[0m\u001b[0;34m(\u001b[0m\u001b[0;34m'data_siamese.pickle'\u001b[0m\u001b[0;34m,\u001b[0m \u001b[0;34m'wb'\u001b[0m\u001b[0;34m)\u001b[0m\u001b[0;34m\u001b[0m\u001b[0m\n\u001b[0;32m----> 2\u001b[0;31m \u001b[0mpickle\u001b[0m\u001b[0;34m.\u001b[0m\u001b[0mdump\u001b[0m\u001b[0;34m(\u001b[0m\u001b[0mx\u001b[0m\u001b[0;34m,\u001b[0m\u001b[0mhf\u001b[0m\u001b[0;34m)\u001b[0m\u001b[0;34m\u001b[0m\u001b[0m\n\u001b[0m\u001b[1;32m      3\u001b[0m \u001b[0mhf\u001b[0m\u001b[0;34m.\u001b[0m\u001b[0mclose\u001b[0m\u001b[0;34m(\u001b[0m\u001b[0;34m)\u001b[0m\u001b[0;34m\u001b[0m\u001b[0m\n",
            "\u001b[0;31mNameError\u001b[0m: name 'pickle' is not defined"
          ]
        }
      ]
    },
    {
      "metadata": {
        "id": "2BSmcs96yNs-",
        "colab_type": "code",
        "colab": {
          "autoexec": {
            "startup": false,
            "wait_interval": 0
          },
          "base_uri": "https://localhost:8080/",
          "height": 34
        },
        "outputId": "dbc66939-dd7b-46c4-eb96-a0a8e938cdb6",
        "executionInfo": {
          "status": "ok",
          "timestamp": 1528129076527,
          "user_tz": -330,
          "elapsed": 1305,
          "user": {
            "displayName": "Vaibhav Jade",
            "photoUrl": "https://lh3.googleusercontent.com/a/default-user=s128",
            "userId": "112426218802661198208"
          }
        }
      },
      "cell_type": "code",
      "source": [
        "x.shape"
      ],
      "execution_count": 44,
      "outputs": [
        {
          "output_type": "execute_result",
          "data": {
            "text/plain": [
              "(2350, 3, 551, 1117)"
            ]
          },
          "metadata": {
            "tags": []
          },
          "execution_count": 44
        }
      ]
    },
    {
      "metadata": {
        "id": "kVawTu0EyNlp",
        "colab_type": "code",
        "colab": {
          "autoexec": {
            "startup": false,
            "wait_interval": 0
          },
          "base_uri": "https://localhost:8080/",
          "height": 34
        },
        "outputId": "c44038bb-693a-4829-f0e8-64576fcf6346",
        "executionInfo": {
          "status": "ok",
          "timestamp": 1528129142452,
          "user_tz": -330,
          "elapsed": 2175,
          "user": {
            "displayName": "Vaibhav Jade",
            "photoUrl": "https://lh3.googleusercontent.com/a/default-user=s128",
            "userId": "112426218802661198208"
          }
        }
      },
      "cell_type": "code",
      "source": [
        "!ls"
      ],
      "execution_count": 2,
      "outputs": [
        {
          "output_type": "stream",
          "text": [
            "datalab  data_siamese.pickle  drive\r\n"
          ],
          "name": "stdout"
        }
      ]
    },
    {
      "metadata": {
        "id": "QSDRrzW5iOZN",
        "colab_type": "code",
        "colab": {
          "autoexec": {
            "startup": false,
            "wait_interval": 0
          }
        }
      },
      "cell_type": "code",
      "source": [
        "# add a global spatial average pooling layer\n",
        "x = base_model.output\n",
        "x = GlobalAveragePooling2D()(x)\n",
        "# let's add a fully-connected layer\n",
        "x = Dense(128, activation='relu')(x)\n",
        "# and a logistic layer -- let's say we have 10 classes\n",
        "predictions = Dense(10, activation='softmax')(x)"
      ],
      "execution_count": 0,
      "outputs": []
    },
    {
      "metadata": {
        "id": "PHq_YhxViOZS",
        "colab_type": "code",
        "colab": {
          "autoexec": {
            "startup": false,
            "wait_interval": 0
          }
        }
      },
      "cell_type": "code",
      "source": [
        "m = Model(inputs=base_model.input, outputs=predictions)\n",
        "\n",
        "for layer in base_model.layers:\n",
        "    layer.trainable = False\n",
        "\n",
        "m.compile(loss=\"categorical_crossentropy\", optimizer=\"adam\", metrics=[\"accuracy\"])  "
      ],
      "execution_count": 0,
      "outputs": []
    },
    {
      "metadata": {
        "id": "sZlSFi4B1olF",
        "colab_type": "code",
        "colab": {
          "autoexec": {
            "startup": false,
            "wait_interval": 0
          }
        }
      },
      "cell_type": "code",
      "source": [
        "import os \n",
        "os.chdir('drive/SOP')"
      ],
      "execution_count": 0,
      "outputs": []
    },
    {
      "metadata": {
        "id": "NICeIMhM99v9",
        "colab_type": "code",
        "colab": {
          "autoexec": {
            "startup": false,
            "wait_interval": 0
          },
          "base_uri": "https://localhost:8080/",
          "height": 34
        },
        "outputId": "97fd7294-eef7-4c5b-8956-2a66ff1397ff",
        "executionInfo": {
          "status": "ok",
          "timestamp": 1525793156987,
          "user_tz": -330,
          "elapsed": 2737,
          "user": {
            "displayName": "Vaibhav Jade",
            "photoUrl": "https://lh3.googleusercontent.com/a/default-user=s128",
            "userId": "112426218802661198208"
          }
        }
      },
      "cell_type": "code",
      "source": [
        "!ls"
      ],
      "execution_count": 1,
      "outputs": [
        {
          "output_type": "stream",
          "text": [
            "datalab\r\n"
          ],
          "name": "stdout"
        }
      ]
    },
    {
      "metadata": {
        "id": "UYsOI9lno4jP",
        "colab_type": "code",
        "colab": {
          "autoexec": {
            "startup": false,
            "wait_interval": 0
          }
        }
      },
      "cell_type": "code",
      "source": [
        "hf = h5py.File('data_1.h5', 'r')"
      ],
      "execution_count": 0,
      "outputs": []
    },
    {
      "metadata": {
        "id": "RkGec3boo5G0",
        "colab_type": "code",
        "colab": {
          "autoexec": {
            "startup": false,
            "wait_interval": 0
          }
        }
      },
      "cell_type": "code",
      "source": [
        "x = hf.get('dataset_1')\n",
        "y = hf.get('dataset_2')"
      ],
      "execution_count": 0,
      "outputs": []
    },
    {
      "metadata": {
        "id": "CfrU5nOqIo-g",
        "colab_type": "code",
        "colab": {
          "autoexec": {
            "startup": false,
            "wait_interval": 0
          },
          "base_uri": "https://localhost:8080/",
          "height": 34
        },
        "outputId": "b514f4a9-44c0-48ad-bfbf-82643631ca72",
        "executionInfo": {
          "status": "ok",
          "timestamp": 1525793376174,
          "user_tz": -330,
          "elapsed": 1327,
          "user": {
            "displayName": "Vaibhav Jade",
            "photoUrl": "https://lh3.googleusercontent.com/a/default-user=s128",
            "userId": "112426218802661198208"
          }
        }
      },
      "cell_type": "code",
      "source": [
        "x[0].shape"
      ],
      "execution_count": 12,
      "outputs": [
        {
          "output_type": "execute_result",
          "data": {
            "text/plain": [
              "(551, 1117, 3)"
            ]
          },
          "metadata": {
            "tags": []
          },
          "execution_count": 12
        }
      ]
    },
    {
      "metadata": {
        "id": "eDcFSX9Yu48w",
        "colab_type": "code",
        "colab": {
          "autoexec": {
            "startup": false,
            "wait_interval": 0
          }
        }
      },
      "cell_type": "code",
      "source": [
        "import numpy as np\n",
        "x = np.asarray(x)\n",
        "y = np.asarray(y)\n",
        "p = np.random.permutation(x.shape[0])\n",
        "x = x[p]\n",
        "y = y[p]\n",
        "X_train = x[0:200]\n",
        "y_train = y[0:200]\n",
        "X_val = x[200:226]\n",
        "y_val = y[200:226]"
      ],
      "execution_count": 0,
      "outputs": []
    },
    {
      "metadata": {
        "id": "hwYWYZqUiOZf",
        "colab_type": "code",
        "colab": {
          "autoexec": {
            "startup": false,
            "wait_interval": 0
          },
          "base_uri": "https://localhost:8080/",
          "height": 714
        },
        "outputId": "219c1e1d-df5c-4aa9-9248-f40adba12b67",
        "executionInfo": {
          "status": "ok",
          "timestamp": 1525677016472,
          "user_tz": -330,
          "elapsed": 360246,
          "user": {
            "displayName": "Vaibhav Jade",
            "photoUrl": "https://lh3.googleusercontent.com/a/default-user=s128",
            "userId": "112426218802661198208"
          }
        }
      },
      "cell_type": "code",
      "source": [
        "model_info = m.fit(X_train, y_train, validation_data=(X_val, y_val), epochs= 20, batch_size= 32, verbose=2)"
      ],
      "execution_count": 17,
      "outputs": [
        {
          "output_type": "stream",
          "text": [
            "Train on 200 samples, validate on 26 samples\n",
            "Epoch 1/20\n",
            " - 18s - loss: 0.8411 - acc: 0.8150 - val_loss: 14.2583 - val_acc: 0.1154\n",
            "Epoch 2/20\n",
            " - 18s - loss: 0.8236 - acc: 0.8000 - val_loss: 14.2583 - val_acc: 0.1154\n",
            "Epoch 3/20\n",
            " - 18s - loss: 0.7754 - acc: 0.9200 - val_loss: 14.1695 - val_acc: 0.1154\n",
            "Epoch 4/20\n",
            " - 18s - loss: 0.7261 - acc: 0.9000 - val_loss: 14.2583 - val_acc: 0.1154\n",
            "Epoch 5/20\n",
            " - 18s - loss: 0.6923 - acc: 0.8800 - val_loss: 14.2583 - val_acc: 0.1154\n",
            "Epoch 6/20\n",
            " - 18s - loss: 0.7376 - acc: 0.8850 - val_loss: 14.2583 - val_acc: 0.1154\n",
            "Epoch 7/20\n",
            " - 18s - loss: 0.6805 - acc: 0.8650 - val_loss: 14.2583 - val_acc: 0.1154\n",
            "Epoch 8/20\n",
            " - 18s - loss: 0.6932 - acc: 0.9050 - val_loss: 14.2583 - val_acc: 0.1154\n",
            "Epoch 9/20\n",
            " - 18s - loss: 0.6010 - acc: 0.9200 - val_loss: 14.2583 - val_acc: 0.1154\n",
            "Epoch 10/20\n",
            " - 18s - loss: 0.5930 - acc: 0.8850 - val_loss: 14.2583 - val_acc: 0.1154\n",
            "Epoch 11/20\n",
            " - 18s - loss: 0.5766 - acc: 0.9100 - val_loss: 14.2583 - val_acc: 0.1154\n",
            "Epoch 12/20\n",
            " - 18s - loss: 0.5704 - acc: 0.9300 - val_loss: 14.2583 - val_acc: 0.1154\n",
            "Epoch 13/20\n",
            " - 18s - loss: 0.5433 - acc: 0.9200 - val_loss: 14.2583 - val_acc: 0.1154\n",
            "Epoch 14/20\n",
            " - 18s - loss: 0.4852 - acc: 0.9700 - val_loss: 14.2583 - val_acc: 0.1154\n",
            "Epoch 15/20\n",
            " - 18s - loss: 0.4595 - acc: 0.9650 - val_loss: 14.2583 - val_acc: 0.1154\n",
            "Epoch 16/20\n",
            " - 18s - loss: 0.4712 - acc: 0.9500 - val_loss: 14.2583 - val_acc: 0.1154\n",
            "Epoch 17/20\n",
            " - 18s - loss: 0.4440 - acc: 0.9700 - val_loss: 14.2583 - val_acc: 0.1154\n",
            "Epoch 18/20\n",
            " - 18s - loss: 0.4216 - acc: 0.9550 - val_loss: 14.2583 - val_acc: 0.1154\n",
            "Epoch 19/20\n",
            " - 18s - loss: 0.4019 - acc: 0.9600 - val_loss: 14.2583 - val_acc: 0.1154\n",
            "Epoch 20/20\n",
            " - 18s - loss: 0.3714 - acc: 0.9700 - val_loss: 14.2583 - val_acc: 0.1154\n"
          ],
          "name": "stdout"
        }
      ]
    },
    {
      "metadata": {
        "id": "CQ55noKFcCn4",
        "colab_type": "code",
        "colab": {
          "autoexec": {
            "startup": false,
            "wait_interval": 0
          }
        }
      },
      "cell_type": "code",
      "source": [
        "m.save('tranfer_20ep_overfit.h5')"
      ],
      "execution_count": 0,
      "outputs": []
    },
    {
      "metadata": {
        "id": "Vcb9ENrTb13P",
        "colab_type": "code",
        "colab": {
          "autoexec": {
            "startup": false,
            "wait_interval": 0
          }
        }
      },
      "cell_type": "code",
      "source": [
        "# add a global spatial average pooling layer\n",
        "x = base_model.output\n",
        "x = GlobalAveragePooling2D()(x)\n",
        "# let's add a fully-connected layer\n",
        "x = Dense(128, activation='relu')(x)\n",
        "x = keras.layers.Dropout(0.5)(x)\n",
        "# and a logistic layer -- let's say we have 10 classes\n",
        "predictions = Dense(10, activation='softmax',activity_regularizer= regularizers.l2(0.01))(x)"
      ],
      "execution_count": 0,
      "outputs": []
    },
    {
      "metadata": {
        "id": "PHg3Y4-qb53E",
        "colab_type": "code",
        "colab": {
          "autoexec": {
            "startup": false,
            "wait_interval": 0
          }
        }
      },
      "cell_type": "code",
      "source": [
        "m = Model(inputs=base_model.input, outputs=predictions)\n",
        "\n",
        "for layer in base_model.layers:\n",
        "    layer.trainable = False\n",
        "\n",
        "m.compile(loss=\"categorical_crossentropy\", optimizer=\"adam\", metrics=[\"accuracy\"])  "
      ],
      "execution_count": 0,
      "outputs": []
    },
    {
      "metadata": {
        "id": "7YYYrfjacuMh",
        "colab_type": "code",
        "colab": {
          "autoexec": {
            "startup": false,
            "wait_interval": 0
          },
          "base_uri": "https://localhost:8080/",
          "height": 1424
        },
        "outputId": "bd884fa5-a40a-4d6f-9fca-25349a8c816e",
        "executionInfo": {
          "status": "error",
          "timestamp": 1525793551883,
          "user_tz": -330,
          "elapsed": 99671,
          "user": {
            "displayName": "Vaibhav Jade",
            "photoUrl": "https://lh3.googleusercontent.com/a/default-user=s128",
            "userId": "112426218802661198208"
          }
        }
      },
      "cell_type": "code",
      "source": [
        "model_info = m.fit(X_train, y_train, validation_data=(X_val, y_val), epochs= 20, batch_size= 32, verbose=2)"
      ],
      "execution_count": 16,
      "outputs": [
        {
          "output_type": "stream",
          "text": [
            "Train on 200 samples, validate on 26 samples\n",
            "Epoch 1/20\n",
            " - 36s - loss: 2.4759 - acc: 0.0900 - val_loss: 10.1964 - val_acc: 0.0769\n",
            "Epoch 2/20\n",
            " - 19s - loss: 2.3462 - acc: 0.1400 - val_loss: 11.9389 - val_acc: 0.1923\n",
            "Epoch 3/20\n",
            " - 19s - loss: 2.2220 - acc: 0.1950 - val_loss: 12.4373 - val_acc: 0.1154\n",
            "Epoch 4/20\n",
            " - 19s - loss: 2.2395 - acc: 0.1750 - val_loss: 8.9694 - val_acc: 0.0769\n",
            "Epoch 5/20\n"
          ],
          "name": "stdout"
        },
        {
          "output_type": "error",
          "ename": "KeyboardInterrupt",
          "evalue": "ignored",
          "traceback": [
            "\u001b[0;31m---------------------------------------------------------------------------\u001b[0m",
            "\u001b[0;31mKeyboardInterrupt\u001b[0m                         Traceback (most recent call last)",
            "\u001b[0;32m<ipython-input-16-604b314756a7>\u001b[0m in \u001b[0;36m<module>\u001b[0;34m()\u001b[0m\n\u001b[0;32m----> 1\u001b[0;31m \u001b[0mmodel_info\u001b[0m \u001b[0;34m=\u001b[0m \u001b[0mm\u001b[0m\u001b[0;34m.\u001b[0m\u001b[0mfit\u001b[0m\u001b[0;34m(\u001b[0m\u001b[0mX_train\u001b[0m\u001b[0;34m,\u001b[0m \u001b[0my_train\u001b[0m\u001b[0;34m,\u001b[0m \u001b[0mvalidation_data\u001b[0m\u001b[0;34m=\u001b[0m\u001b[0;34m(\u001b[0m\u001b[0mX_val\u001b[0m\u001b[0;34m,\u001b[0m \u001b[0my_val\u001b[0m\u001b[0;34m)\u001b[0m\u001b[0;34m,\u001b[0m \u001b[0mepochs\u001b[0m\u001b[0;34m=\u001b[0m \u001b[0;36m20\u001b[0m\u001b[0;34m,\u001b[0m \u001b[0mbatch_size\u001b[0m\u001b[0;34m=\u001b[0m \u001b[0;36m32\u001b[0m\u001b[0;34m,\u001b[0m \u001b[0mverbose\u001b[0m\u001b[0;34m=\u001b[0m\u001b[0;36m2\u001b[0m\u001b[0;34m)\u001b[0m\u001b[0;34m\u001b[0m\u001b[0m\n\u001b[0m",
            "\u001b[0;32m/usr/local/lib/python3.6/dist-packages/keras/engine/training.py\u001b[0m in \u001b[0;36mfit\u001b[0;34m(self, x, y, batch_size, epochs, verbose, callbacks, validation_split, validation_data, shuffle, class_weight, sample_weight, initial_epoch, steps_per_epoch, validation_steps, **kwargs)\u001b[0m\n\u001b[1;32m   1703\u001b[0m                               \u001b[0minitial_epoch\u001b[0m\u001b[0;34m=\u001b[0m\u001b[0minitial_epoch\u001b[0m\u001b[0;34m,\u001b[0m\u001b[0;34m\u001b[0m\u001b[0m\n\u001b[1;32m   1704\u001b[0m                               \u001b[0msteps_per_epoch\u001b[0m\u001b[0;34m=\u001b[0m\u001b[0msteps_per_epoch\u001b[0m\u001b[0;34m,\u001b[0m\u001b[0;34m\u001b[0m\u001b[0m\n\u001b[0;32m-> 1705\u001b[0;31m                               validation_steps=validation_steps)\n\u001b[0m\u001b[1;32m   1706\u001b[0m \u001b[0;34m\u001b[0m\u001b[0m\n\u001b[1;32m   1707\u001b[0m     def evaluate(self, x=None, y=None,\n",
            "\u001b[0;32m/usr/local/lib/python3.6/dist-packages/keras/engine/training.py\u001b[0m in \u001b[0;36m_fit_loop\u001b[0;34m(self, f, ins, out_labels, batch_size, epochs, verbose, callbacks, val_f, val_ins, shuffle, callback_metrics, initial_epoch, steps_per_epoch, validation_steps)\u001b[0m\n\u001b[1;32m   1234\u001b[0m                         \u001b[0mins_batch\u001b[0m\u001b[0;34m[\u001b[0m\u001b[0mi\u001b[0m\u001b[0;34m]\u001b[0m \u001b[0;34m=\u001b[0m \u001b[0mins_batch\u001b[0m\u001b[0;34m[\u001b[0m\u001b[0mi\u001b[0m\u001b[0;34m]\u001b[0m\u001b[0;34m.\u001b[0m\u001b[0mtoarray\u001b[0m\u001b[0;34m(\u001b[0m\u001b[0;34m)\u001b[0m\u001b[0;34m\u001b[0m\u001b[0m\n\u001b[1;32m   1235\u001b[0m \u001b[0;34m\u001b[0m\u001b[0m\n\u001b[0;32m-> 1236\u001b[0;31m                     \u001b[0mouts\u001b[0m \u001b[0;34m=\u001b[0m \u001b[0mf\u001b[0m\u001b[0;34m(\u001b[0m\u001b[0mins_batch\u001b[0m\u001b[0;34m)\u001b[0m\u001b[0;34m\u001b[0m\u001b[0m\n\u001b[0m\u001b[1;32m   1237\u001b[0m                     \u001b[0;32mif\u001b[0m \u001b[0;32mnot\u001b[0m \u001b[0misinstance\u001b[0m\u001b[0;34m(\u001b[0m\u001b[0mouts\u001b[0m\u001b[0;34m,\u001b[0m \u001b[0mlist\u001b[0m\u001b[0;34m)\u001b[0m\u001b[0;34m:\u001b[0m\u001b[0;34m\u001b[0m\u001b[0m\n\u001b[1;32m   1238\u001b[0m                         \u001b[0mouts\u001b[0m \u001b[0;34m=\u001b[0m \u001b[0;34m[\u001b[0m\u001b[0mouts\u001b[0m\u001b[0;34m]\u001b[0m\u001b[0;34m\u001b[0m\u001b[0m\n",
            "\u001b[0;32m/usr/local/lib/python3.6/dist-packages/keras/backend/tensorflow_backend.py\u001b[0m in \u001b[0;36m__call__\u001b[0;34m(self, inputs)\u001b[0m\n\u001b[1;32m   2480\u001b[0m         \u001b[0msession\u001b[0m \u001b[0;34m=\u001b[0m \u001b[0mget_session\u001b[0m\u001b[0;34m(\u001b[0m\u001b[0;34m)\u001b[0m\u001b[0;34m\u001b[0m\u001b[0m\n\u001b[1;32m   2481\u001b[0m         updated = session.run(fetches=fetches, feed_dict=feed_dict,\n\u001b[0;32m-> 2482\u001b[0;31m                               **self.session_kwargs)\n\u001b[0m\u001b[1;32m   2483\u001b[0m         \u001b[0;32mreturn\u001b[0m \u001b[0mupdated\u001b[0m\u001b[0;34m[\u001b[0m\u001b[0;34m:\u001b[0m\u001b[0mlen\u001b[0m\u001b[0;34m(\u001b[0m\u001b[0mself\u001b[0m\u001b[0;34m.\u001b[0m\u001b[0moutputs\u001b[0m\u001b[0;34m)\u001b[0m\u001b[0;34m]\u001b[0m\u001b[0;34m\u001b[0m\u001b[0m\n\u001b[1;32m   2484\u001b[0m \u001b[0;34m\u001b[0m\u001b[0m\n",
            "\u001b[0;32m/usr/local/lib/python3.6/dist-packages/tensorflow/python/client/session.py\u001b[0m in \u001b[0;36mrun\u001b[0;34m(self, fetches, feed_dict, options, run_metadata)\u001b[0m\n\u001b[1;32m    903\u001b[0m     \u001b[0;32mtry\u001b[0m\u001b[0;34m:\u001b[0m\u001b[0;34m\u001b[0m\u001b[0m\n\u001b[1;32m    904\u001b[0m       result = self._run(None, fetches, feed_dict, options_ptr,\n\u001b[0;32m--> 905\u001b[0;31m                          run_metadata_ptr)\n\u001b[0m\u001b[1;32m    906\u001b[0m       \u001b[0;32mif\u001b[0m \u001b[0mrun_metadata\u001b[0m\u001b[0;34m:\u001b[0m\u001b[0;34m\u001b[0m\u001b[0m\n\u001b[1;32m    907\u001b[0m         \u001b[0mproto_data\u001b[0m \u001b[0;34m=\u001b[0m \u001b[0mtf_session\u001b[0m\u001b[0;34m.\u001b[0m\u001b[0mTF_GetBuffer\u001b[0m\u001b[0;34m(\u001b[0m\u001b[0mrun_metadata_ptr\u001b[0m\u001b[0;34m)\u001b[0m\u001b[0;34m\u001b[0m\u001b[0m\n",
            "\u001b[0;32m/usr/local/lib/python3.6/dist-packages/tensorflow/python/client/session.py\u001b[0m in \u001b[0;36m_run\u001b[0;34m(self, handle, fetches, feed_dict, options, run_metadata)\u001b[0m\n\u001b[1;32m   1138\u001b[0m     \u001b[0;32mif\u001b[0m \u001b[0mfinal_fetches\u001b[0m \u001b[0;32mor\u001b[0m \u001b[0mfinal_targets\u001b[0m \u001b[0;32mor\u001b[0m \u001b[0;34m(\u001b[0m\u001b[0mhandle\u001b[0m \u001b[0;32mand\u001b[0m \u001b[0mfeed_dict_tensor\u001b[0m\u001b[0;34m)\u001b[0m\u001b[0;34m:\u001b[0m\u001b[0;34m\u001b[0m\u001b[0m\n\u001b[1;32m   1139\u001b[0m       results = self._do_run(handle, final_targets, final_fetches,\n\u001b[0;32m-> 1140\u001b[0;31m                              feed_dict_tensor, options, run_metadata)\n\u001b[0m\u001b[1;32m   1141\u001b[0m     \u001b[0;32melse\u001b[0m\u001b[0;34m:\u001b[0m\u001b[0;34m\u001b[0m\u001b[0m\n\u001b[1;32m   1142\u001b[0m       \u001b[0mresults\u001b[0m \u001b[0;34m=\u001b[0m \u001b[0;34m[\u001b[0m\u001b[0;34m]\u001b[0m\u001b[0;34m\u001b[0m\u001b[0m\n",
            "\u001b[0;32m/usr/local/lib/python3.6/dist-packages/tensorflow/python/client/session.py\u001b[0m in \u001b[0;36m_do_run\u001b[0;34m(self, handle, target_list, fetch_list, feed_dict, options, run_metadata)\u001b[0m\n\u001b[1;32m   1319\u001b[0m     \u001b[0;32mif\u001b[0m \u001b[0mhandle\u001b[0m \u001b[0;32mis\u001b[0m \u001b[0;32mNone\u001b[0m\u001b[0;34m:\u001b[0m\u001b[0;34m\u001b[0m\u001b[0m\n\u001b[1;32m   1320\u001b[0m       return self._do_call(_run_fn, feeds, fetches, targets, options,\n\u001b[0;32m-> 1321\u001b[0;31m                            run_metadata)\n\u001b[0m\u001b[1;32m   1322\u001b[0m     \u001b[0;32melse\u001b[0m\u001b[0;34m:\u001b[0m\u001b[0;34m\u001b[0m\u001b[0m\n\u001b[1;32m   1323\u001b[0m       \u001b[0;32mreturn\u001b[0m \u001b[0mself\u001b[0m\u001b[0;34m.\u001b[0m\u001b[0m_do_call\u001b[0m\u001b[0;34m(\u001b[0m\u001b[0m_prun_fn\u001b[0m\u001b[0;34m,\u001b[0m \u001b[0mhandle\u001b[0m\u001b[0;34m,\u001b[0m \u001b[0mfeeds\u001b[0m\u001b[0;34m,\u001b[0m \u001b[0mfetches\u001b[0m\u001b[0;34m)\u001b[0m\u001b[0;34m\u001b[0m\u001b[0m\n",
            "\u001b[0;32m/usr/local/lib/python3.6/dist-packages/tensorflow/python/client/session.py\u001b[0m in \u001b[0;36m_do_call\u001b[0;34m(self, fn, *args)\u001b[0m\n\u001b[1;32m   1325\u001b[0m   \u001b[0;32mdef\u001b[0m \u001b[0m_do_call\u001b[0m\u001b[0;34m(\u001b[0m\u001b[0mself\u001b[0m\u001b[0;34m,\u001b[0m \u001b[0mfn\u001b[0m\u001b[0;34m,\u001b[0m \u001b[0;34m*\u001b[0m\u001b[0margs\u001b[0m\u001b[0;34m)\u001b[0m\u001b[0;34m:\u001b[0m\u001b[0;34m\u001b[0m\u001b[0m\n\u001b[1;32m   1326\u001b[0m     \u001b[0;32mtry\u001b[0m\u001b[0;34m:\u001b[0m\u001b[0;34m\u001b[0m\u001b[0m\n\u001b[0;32m-> 1327\u001b[0;31m       \u001b[0;32mreturn\u001b[0m \u001b[0mfn\u001b[0m\u001b[0;34m(\u001b[0m\u001b[0;34m*\u001b[0m\u001b[0margs\u001b[0m\u001b[0;34m)\u001b[0m\u001b[0;34m\u001b[0m\u001b[0m\n\u001b[0m\u001b[1;32m   1328\u001b[0m     \u001b[0;32mexcept\u001b[0m \u001b[0merrors\u001b[0m\u001b[0;34m.\u001b[0m\u001b[0mOpError\u001b[0m \u001b[0;32mas\u001b[0m \u001b[0me\u001b[0m\u001b[0;34m:\u001b[0m\u001b[0;34m\u001b[0m\u001b[0m\n\u001b[1;32m   1329\u001b[0m       \u001b[0mmessage\u001b[0m \u001b[0;34m=\u001b[0m \u001b[0mcompat\u001b[0m\u001b[0;34m.\u001b[0m\u001b[0mas_text\u001b[0m\u001b[0;34m(\u001b[0m\u001b[0me\u001b[0m\u001b[0;34m.\u001b[0m\u001b[0mmessage\u001b[0m\u001b[0;34m)\u001b[0m\u001b[0;34m\u001b[0m\u001b[0m\n",
            "\u001b[0;32m/usr/local/lib/python3.6/dist-packages/tensorflow/python/client/session.py\u001b[0m in \u001b[0;36m_run_fn\u001b[0;34m(feed_dict, fetch_list, target_list, options, run_metadata)\u001b[0m\n\u001b[1;32m   1310\u001b[0m       \u001b[0mself\u001b[0m\u001b[0;34m.\u001b[0m\u001b[0m_extend_graph\u001b[0m\u001b[0;34m(\u001b[0m\u001b[0;34m)\u001b[0m\u001b[0;34m\u001b[0m\u001b[0m\n\u001b[1;32m   1311\u001b[0m       return self._call_tf_sessionrun(\n\u001b[0;32m-> 1312\u001b[0;31m           options, feed_dict, fetch_list, target_list, run_metadata)\n\u001b[0m\u001b[1;32m   1313\u001b[0m \u001b[0;34m\u001b[0m\u001b[0m\n\u001b[1;32m   1314\u001b[0m     \u001b[0;32mdef\u001b[0m \u001b[0m_prun_fn\u001b[0m\u001b[0;34m(\u001b[0m\u001b[0mhandle\u001b[0m\u001b[0;34m,\u001b[0m \u001b[0mfeed_dict\u001b[0m\u001b[0;34m,\u001b[0m \u001b[0mfetch_list\u001b[0m\u001b[0;34m)\u001b[0m\u001b[0;34m:\u001b[0m\u001b[0;34m\u001b[0m\u001b[0m\n",
            "\u001b[0;32m/usr/local/lib/python3.6/dist-packages/tensorflow/python/client/session.py\u001b[0m in \u001b[0;36m_call_tf_sessionrun\u001b[0;34m(self, options, feed_dict, fetch_list, target_list, run_metadata)\u001b[0m\n\u001b[1;32m   1418\u001b[0m         return tf_session.TF_Run(\n\u001b[1;32m   1419\u001b[0m             \u001b[0mself\u001b[0m\u001b[0;34m.\u001b[0m\u001b[0m_session\u001b[0m\u001b[0;34m,\u001b[0m \u001b[0moptions\u001b[0m\u001b[0;34m,\u001b[0m \u001b[0mfeed_dict\u001b[0m\u001b[0;34m,\u001b[0m \u001b[0mfetch_list\u001b[0m\u001b[0;34m,\u001b[0m \u001b[0mtarget_list\u001b[0m\u001b[0;34m,\u001b[0m\u001b[0;34m\u001b[0m\u001b[0m\n\u001b[0;32m-> 1420\u001b[0;31m             status, run_metadata)\n\u001b[0m\u001b[1;32m   1421\u001b[0m \u001b[0;34m\u001b[0m\u001b[0m\n\u001b[1;32m   1422\u001b[0m   \u001b[0;32mdef\u001b[0m \u001b[0m_call_tf_sessionprun\u001b[0m\u001b[0;34m(\u001b[0m\u001b[0mself\u001b[0m\u001b[0;34m,\u001b[0m \u001b[0mhandle\u001b[0m\u001b[0;34m,\u001b[0m \u001b[0mfeed_dict\u001b[0m\u001b[0;34m,\u001b[0m \u001b[0mfetch_list\u001b[0m\u001b[0;34m)\u001b[0m\u001b[0;34m:\u001b[0m\u001b[0;34m\u001b[0m\u001b[0m\n",
            "\u001b[0;31mKeyboardInterrupt\u001b[0m: "
          ]
        }
      ]
    },
    {
      "metadata": {
        "id": "eamp3PZ9h2lx",
        "colab_type": "code",
        "colab": {
          "autoexec": {
            "startup": false,
            "wait_interval": 0
          }
        }
      },
      "cell_type": "code",
      "source": [
        "m.save('tranfer_20ep_l2+dropout.h5')"
      ],
      "execution_count": 0,
      "outputs": []
    },
    {
      "metadata": {
        "id": "a4EXMJRBvdTX",
        "colab_type": "code",
        "colab": {
          "autoexec": {
            "startup": false,
            "wait_interval": 0
          },
          "base_uri": "https://localhost:8080/",
          "height": 68
        },
        "outputId": "b375caf6-02d5-42b1-80fc-4441170ee249",
        "executionInfo": {
          "status": "ok",
          "timestamp": 1525682141563,
          "user_tz": -330,
          "elapsed": 3669,
          "user": {
            "displayName": "Vaibhav Jade",
            "photoUrl": "https://lh3.googleusercontent.com/a/default-user=s128",
            "userId": "112426218802661198208"
          }
        }
      },
      "cell_type": "code",
      "source": [
        "!ls"
      ],
      "execution_count": 34,
      "outputs": [
        {
          "output_type": "stream",
          "text": [
            "100epochs_3channel.h5  model.ipynb   tranfer_20ep_l2+dropout.h5  trial.ipynb\r\n",
            "data_1.h5\t       mycode.ipynb  tranfer_20ep_l2reg.h5\r\n",
            "data.h5\t\t       trainingSet   tranfer_20ep_overfit.h5\r\n"
          ],
          "name": "stdout"
        }
      ]
    },
    {
      "metadata": {
        "id": "xnPQjncsiOZl",
        "colab_type": "code",
        "colab": {
          "autoexec": {
            "startup": false,
            "wait_interval": 0
          },
          "base_uri": "https://localhost:8080/",
          "height": 612
        },
        "outputId": "c1a92126-8bf7-409b-9640-1eace6333f10",
        "executionInfo": {
          "status": "ok",
          "timestamp": 1525638882590,
          "user_tz": -330,
          "elapsed": 1067,
          "user": {
            "displayName": "Vaibhav Jade",
            "photoUrl": "https://lh3.googleusercontent.com/a/default-user=s128",
            "userId": "112426218802661198208"
          }
        }
      },
      "cell_type": "code",
      "source": [
        " conv_activation = 'relu'\n",
        "deep_activation = 'relu'\n",
        "\n",
        "input_shape = (551, 1117, 3)\n",
        "num_classes = 10\n",
        "\n",
        "model = Sequential()\n",
        "\n",
        "model.add(\n",
        "\tConv2D(\n",
        "\t\t16,\n",
        "\t\tkernel_size=(8, 8),\n",
        "\t\tstrides=(1, 1),\n",
        "\t\tactivation=conv_activation,\n",
        "\t\tinput_shape=input_shape,\n",
        "\t\tdata_format='channels_last'))\n",
        "model.add(MaxPooling2D(pool_size=(2, 2)))\n",
        "\n",
        "model.add(Conv2D(16, (16, 16), activation=conv_activation))\n",
        "model.add(MaxPooling2D(pool_size=(2, 2)))\n",
        "\n",
        "model.add(Conv2D(16, (16, 16), activation=conv_activation))\n",
        "model.add(MaxPooling2D(pool_size=(2, 2)))\n",
        "\n",
        "model.add(MaxPooling2D(pool_size=(2, 2)))\n",
        "\n",
        "model.add(Conv2D(16, (16, 16), activation=conv_activation))\n",
        "model.add(MaxPooling2D(pool_size=(2, 2)))\n",
        "\n",
        "model.add(MaxPooling2D(pool_size=(2, 2)))\n",
        "\n",
        "model.add(Flatten())\n",
        "\n",
        "# model.add(Dense(100, activation=deep_activation))\n",
        "model.add(Dense(100, activation=deep_activation))\n",
        "model.add(Dense(50, activation=deep_activation))\n",
        "model.add(Dense(num_classes, activation='softmax'))\n",
        "\n",
        "model.compile(loss=\"categorical_crossentropy\", optimizer=\"adam\", metrics=[\"accuracy\"])  \n",
        "\n",
        "model.summary()\n"
      ],
      "execution_count": 14,
      "outputs": [
        {
          "output_type": "stream",
          "text": [
            "_________________________________________________________________\n",
            "Layer (type)                 Output Shape              Param #   \n",
            "=================================================================\n",
            "conv2d_5 (Conv2D)            (None, 544, 1110, 16)     3088      \n",
            "_________________________________________________________________\n",
            "max_pooling2d_7 (MaxPooling2 (None, 272, 555, 16)      0         \n",
            "_________________________________________________________________\n",
            "conv2d_6 (Conv2D)            (None, 257, 540, 16)      65552     \n",
            "_________________________________________________________________\n",
            "max_pooling2d_8 (MaxPooling2 (None, 128, 270, 16)      0         \n",
            "_________________________________________________________________\n",
            "conv2d_7 (Conv2D)            (None, 113, 255, 16)      65552     \n",
            "_________________________________________________________________\n",
            "max_pooling2d_9 (MaxPooling2 (None, 56, 127, 16)       0         \n",
            "_________________________________________________________________\n",
            "max_pooling2d_10 (MaxPooling (None, 28, 63, 16)        0         \n",
            "_________________________________________________________________\n",
            "conv2d_8 (Conv2D)            (None, 13, 48, 16)        65552     \n",
            "_________________________________________________________________\n",
            "max_pooling2d_11 (MaxPooling (None, 6, 24, 16)         0         \n",
            "_________________________________________________________________\n",
            "max_pooling2d_12 (MaxPooling (None, 3, 12, 16)         0         \n",
            "_________________________________________________________________\n",
            "flatten_2 (Flatten)          (None, 576)               0         \n",
            "_________________________________________________________________\n",
            "dense_4 (Dense)              (None, 100)               57700     \n",
            "_________________________________________________________________\n",
            "dense_5 (Dense)              (None, 50)                5050      \n",
            "_________________________________________________________________\n",
            "dense_6 (Dense)              (None, 10)                510       \n",
            "=================================================================\n",
            "Total params: 263,004\n",
            "Trainable params: 263,004\n",
            "Non-trainable params: 0\n",
            "_________________________________________________________________\n"
          ],
          "name": "stdout"
        }
      ]
    },
    {
      "metadata": {
        "id": "iEsH3C3aiOZp",
        "colab_type": "code",
        "colab": {
          "autoexec": {
            "startup": false,
            "wait_interval": 0
          },
          "base_uri": "https://localhost:8080/",
          "height": 3311
        },
        "outputId": "f74473f7-df88-477e-e3f1-a9dee152688b",
        "executionInfo": {
          "status": "error",
          "timestamp": 1525640113783,
          "user_tz": -330,
          "elapsed": 1229252,
          "user": {
            "displayName": "Vaibhav Jade",
            "photoUrl": "https://lh3.googleusercontent.com/a/default-user=s128",
            "userId": "112426218802661198208"
          }
        }
      },
      "cell_type": "code",
      "source": [
        "model_info = model.fit(X_train, y_train, validation_data=(X_val, y_val), epochs=100, batch_size=16, verbose=2)"
      ],
      "execution_count": 15,
      "outputs": [
        {
          "output_type": "stream",
          "text": [
            "Train on 200 samples, validate on 26 samples\n",
            "Epoch 1/100\n",
            " - 34s - loss: 14.5063 - acc: 0.1000 - val_loss: 13.6384 - val_acc: 0.1538\n",
            "Epoch 2/100\n",
            " - 22s - loss: 14.5063 - acc: 0.1000 - val_loss: 13.6384 - val_acc: 0.1538\n",
            "Epoch 3/100\n",
            " - 22s - loss: 14.5063 - acc: 0.1000 - val_loss: 13.6384 - val_acc: 0.1538\n",
            "Epoch 4/100\n",
            " - 22s - loss: 14.5063 - acc: 0.1000 - val_loss: 13.6384 - val_acc: 0.1538\n",
            "Epoch 5/100\n",
            " - 22s - loss: 14.5063 - acc: 0.1000 - val_loss: 13.6384 - val_acc: 0.1538\n",
            "Epoch 6/100\n",
            " - 22s - loss: 14.5063 - acc: 0.1000 - val_loss: 13.6384 - val_acc: 0.1538\n",
            "Epoch 7/100\n",
            " - 22s - loss: 14.5063 - acc: 0.1000 - val_loss: 13.6384 - val_acc: 0.1538\n",
            "Epoch 8/100\n",
            " - 22s - loss: 14.5063 - acc: 0.1000 - val_loss: 13.6384 - val_acc: 0.1538\n",
            "Epoch 9/100\n",
            " - 22s - loss: 14.5063 - acc: 0.1000 - val_loss: 13.6384 - val_acc: 0.1538\n",
            "Epoch 10/100\n",
            " - 22s - loss: 14.5063 - acc: 0.1000 - val_loss: 13.6384 - val_acc: 0.1538\n",
            "Epoch 11/100\n",
            " - 22s - loss: 14.5063 - acc: 0.1000 - val_loss: 13.6384 - val_acc: 0.1538\n",
            "Epoch 12/100\n",
            " - 22s - loss: 14.5063 - acc: 0.1000 - val_loss: 13.6384 - val_acc: 0.1538\n",
            "Epoch 13/100\n",
            " - 22s - loss: 14.5063 - acc: 0.1000 - val_loss: 13.6384 - val_acc: 0.1538\n",
            "Epoch 14/100\n",
            " - 22s - loss: 14.5063 - acc: 0.1000 - val_loss: 13.6384 - val_acc: 0.1538\n",
            "Epoch 15/100\n",
            " - 22s - loss: 14.5063 - acc: 0.1000 - val_loss: 13.6384 - val_acc: 0.1538\n",
            "Epoch 16/100\n",
            " - 22s - loss: 14.5063 - acc: 0.1000 - val_loss: 13.6384 - val_acc: 0.1538\n",
            "Epoch 17/100\n",
            " - 22s - loss: 14.5063 - acc: 0.1000 - val_loss: 13.6384 - val_acc: 0.1538\n",
            "Epoch 18/100\n",
            " - 22s - loss: 14.5063 - acc: 0.1000 - val_loss: 13.6384 - val_acc: 0.1538\n",
            "Epoch 19/100\n",
            " - 22s - loss: 14.5063 - acc: 0.1000 - val_loss: 13.6384 - val_acc: 0.1538\n",
            "Epoch 20/100\n",
            " - 22s - loss: 14.5063 - acc: 0.1000 - val_loss: 13.6384 - val_acc: 0.1538\n",
            "Epoch 21/100\n",
            " - 22s - loss: 14.5063 - acc: 0.1000 - val_loss: 13.6384 - val_acc: 0.1538\n",
            "Epoch 22/100\n",
            " - 22s - loss: 14.5063 - acc: 0.1000 - val_loss: 13.6384 - val_acc: 0.1538\n",
            "Epoch 23/100\n",
            " - 22s - loss: 14.5063 - acc: 0.1000 - val_loss: 13.6384 - val_acc: 0.1538\n",
            "Epoch 24/100\n",
            " - 22s - loss: 14.5063 - acc: 0.1000 - val_loss: 13.6384 - val_acc: 0.1538\n",
            "Epoch 25/100\n",
            " - 22s - loss: 14.5063 - acc: 0.1000 - val_loss: 13.6384 - val_acc: 0.1538\n",
            "Epoch 26/100\n",
            " - 22s - loss: 14.5063 - acc: 0.1000 - val_loss: 13.6384 - val_acc: 0.1538\n",
            "Epoch 27/100\n",
            " - 22s - loss: 14.5063 - acc: 0.1000 - val_loss: 13.6384 - val_acc: 0.1538\n",
            "Epoch 28/100\n",
            " - 22s - loss: 14.5063 - acc: 0.1000 - val_loss: 13.6384 - val_acc: 0.1538\n",
            "Epoch 29/100\n",
            " - 22s - loss: 14.5063 - acc: 0.1000 - val_loss: 13.6384 - val_acc: 0.1538\n",
            "Epoch 30/100\n",
            " - 22s - loss: 14.5063 - acc: 0.1000 - val_loss: 13.6384 - val_acc: 0.1538\n",
            "Epoch 31/100\n",
            " - 22s - loss: 14.5063 - acc: 0.1000 - val_loss: 13.6384 - val_acc: 0.1538\n",
            "Epoch 32/100\n",
            " - 22s - loss: 14.5063 - acc: 0.1000 - val_loss: 13.6384 - val_acc: 0.1538\n",
            "Epoch 33/100\n",
            " - 22s - loss: 14.5063 - acc: 0.1000 - val_loss: 13.6384 - val_acc: 0.1538\n"
          ],
          "name": "stdout"
        },
        {
          "output_type": "stream",
          "text": [
            "Epoch 34/100\n",
            " - 22s - loss: 14.5063 - acc: 0.1000 - val_loss: 13.6384 - val_acc: 0.1538\n",
            "Epoch 35/100\n",
            " - 22s - loss: 14.5063 - acc: 0.1000 - val_loss: 13.6384 - val_acc: 0.1538\n",
            "Epoch 36/100\n",
            " - 22s - loss: 14.5063 - acc: 0.1000 - val_loss: 13.6384 - val_acc: 0.1538\n",
            "Epoch 37/100\n",
            " - 22s - loss: 14.5063 - acc: 0.1000 - val_loss: 13.6384 - val_acc: 0.1538\n",
            "Epoch 38/100\n",
            " - 22s - loss: 14.5063 - acc: 0.1000 - val_loss: 13.6384 - val_acc: 0.1538\n",
            "Epoch 39/100\n",
            " - 22s - loss: 14.5063 - acc: 0.1000 - val_loss: 13.6384 - val_acc: 0.1538\n",
            "Epoch 40/100\n",
            " - 22s - loss: 14.5063 - acc: 0.1000 - val_loss: 13.6384 - val_acc: 0.1538\n",
            "Epoch 41/100\n",
            " - 22s - loss: 14.5063 - acc: 0.1000 - val_loss: 13.6384 - val_acc: 0.1538\n",
            "Epoch 42/100\n",
            " - 22s - loss: 14.5063 - acc: 0.1000 - val_loss: 13.6384 - val_acc: 0.1538\n",
            "Epoch 43/100\n",
            " - 22s - loss: 14.5063 - acc: 0.1000 - val_loss: 13.6384 - val_acc: 0.1538\n",
            "Epoch 44/100\n",
            " - 22s - loss: 14.5063 - acc: 0.1000 - val_loss: 13.6384 - val_acc: 0.1538\n",
            "Epoch 45/100\n",
            " - 22s - loss: 14.5063 - acc: 0.1000 - val_loss: 13.6384 - val_acc: 0.1538\n",
            "Epoch 46/100\n",
            " - 22s - loss: 14.5063 - acc: 0.1000 - val_loss: 13.6384 - val_acc: 0.1538\n",
            "Epoch 47/100\n",
            " - 22s - loss: 14.5063 - acc: 0.1000 - val_loss: 13.6384 - val_acc: 0.1538\n",
            "Epoch 48/100\n",
            " - 22s - loss: 14.5063 - acc: 0.1000 - val_loss: 13.6384 - val_acc: 0.1538\n",
            "Epoch 49/100\n",
            " - 22s - loss: 14.5063 - acc: 0.1000 - val_loss: 13.6384 - val_acc: 0.1538\n",
            "Epoch 50/100\n",
            " - 22s - loss: 14.5063 - acc: 0.1000 - val_loss: 13.6384 - val_acc: 0.1538\n",
            "Epoch 51/100\n",
            " - 22s - loss: 14.5063 - acc: 0.1000 - val_loss: 13.6384 - val_acc: 0.1538\n",
            "Epoch 52/100\n",
            " - 22s - loss: 14.5063 - acc: 0.1000 - val_loss: 13.6384 - val_acc: 0.1538\n",
            "Epoch 53/100\n",
            " - 22s - loss: 14.5063 - acc: 0.1000 - val_loss: 13.6384 - val_acc: 0.1538\n",
            "Epoch 54/100\n",
            " - 22s - loss: 14.5063 - acc: 0.1000 - val_loss: 13.6384 - val_acc: 0.1538\n",
            "Epoch 55/100\n",
            " - 22s - loss: 14.5063 - acc: 0.1000 - val_loss: 13.6384 - val_acc: 0.1538\n",
            "Epoch 56/100\n",
            " - 22s - loss: 14.5063 - acc: 0.1000 - val_loss: 13.6384 - val_acc: 0.1538\n",
            "Epoch 57/100\n"
          ],
          "name": "stdout"
        },
        {
          "output_type": "error",
          "ename": "KeyboardInterrupt",
          "evalue": "ignored",
          "traceback": [
            "\u001b[0;31m---------------------------------------------------------------------------\u001b[0m",
            "\u001b[0;31mKeyboardInterrupt\u001b[0m                         Traceback (most recent call last)",
            "\u001b[0;32m<ipython-input-15-964013f47dd9>\u001b[0m in \u001b[0;36m<module>\u001b[0;34m()\u001b[0m\n\u001b[0;32m----> 1\u001b[0;31m \u001b[0mmodel_info\u001b[0m \u001b[0;34m=\u001b[0m \u001b[0mmodel\u001b[0m\u001b[0;34m.\u001b[0m\u001b[0mfit\u001b[0m\u001b[0;34m(\u001b[0m\u001b[0mX_train\u001b[0m\u001b[0;34m,\u001b[0m \u001b[0my_train\u001b[0m\u001b[0;34m,\u001b[0m \u001b[0mvalidation_data\u001b[0m\u001b[0;34m=\u001b[0m\u001b[0;34m(\u001b[0m\u001b[0mX_val\u001b[0m\u001b[0;34m,\u001b[0m \u001b[0my_val\u001b[0m\u001b[0;34m)\u001b[0m\u001b[0;34m,\u001b[0m \u001b[0mepochs\u001b[0m\u001b[0;34m=\u001b[0m\u001b[0;36m100\u001b[0m\u001b[0;34m,\u001b[0m \u001b[0mbatch_size\u001b[0m\u001b[0;34m=\u001b[0m\u001b[0;36m16\u001b[0m\u001b[0;34m,\u001b[0m \u001b[0mverbose\u001b[0m\u001b[0;34m=\u001b[0m\u001b[0;36m2\u001b[0m\u001b[0;34m)\u001b[0m\u001b[0;34m\u001b[0m\u001b[0m\n\u001b[0m",
            "\u001b[0;32m/usr/local/lib/python3.6/dist-packages/keras/models.py\u001b[0m in \u001b[0;36mfit\u001b[0;34m(self, x, y, batch_size, epochs, verbose, callbacks, validation_split, validation_data, shuffle, class_weight, sample_weight, initial_epoch, steps_per_epoch, validation_steps, **kwargs)\u001b[0m\n\u001b[1;32m   1000\u001b[0m                               \u001b[0minitial_epoch\u001b[0m\u001b[0;34m=\u001b[0m\u001b[0minitial_epoch\u001b[0m\u001b[0;34m,\u001b[0m\u001b[0;34m\u001b[0m\u001b[0m\n\u001b[1;32m   1001\u001b[0m                               \u001b[0msteps_per_epoch\u001b[0m\u001b[0;34m=\u001b[0m\u001b[0msteps_per_epoch\u001b[0m\u001b[0;34m,\u001b[0m\u001b[0;34m\u001b[0m\u001b[0m\n\u001b[0;32m-> 1002\u001b[0;31m                               validation_steps=validation_steps)\n\u001b[0m\u001b[1;32m   1003\u001b[0m \u001b[0;34m\u001b[0m\u001b[0m\n\u001b[1;32m   1004\u001b[0m     def evaluate(self, x=None, y=None,\n",
            "\u001b[0;32m/usr/local/lib/python3.6/dist-packages/keras/engine/training.py\u001b[0m in \u001b[0;36mfit\u001b[0;34m(self, x, y, batch_size, epochs, verbose, callbacks, validation_split, validation_data, shuffle, class_weight, sample_weight, initial_epoch, steps_per_epoch, validation_steps, **kwargs)\u001b[0m\n\u001b[1;32m   1703\u001b[0m                               \u001b[0minitial_epoch\u001b[0m\u001b[0;34m=\u001b[0m\u001b[0minitial_epoch\u001b[0m\u001b[0;34m,\u001b[0m\u001b[0;34m\u001b[0m\u001b[0m\n\u001b[1;32m   1704\u001b[0m                               \u001b[0msteps_per_epoch\u001b[0m\u001b[0;34m=\u001b[0m\u001b[0msteps_per_epoch\u001b[0m\u001b[0;34m,\u001b[0m\u001b[0;34m\u001b[0m\u001b[0m\n\u001b[0;32m-> 1705\u001b[0;31m                               validation_steps=validation_steps)\n\u001b[0m\u001b[1;32m   1706\u001b[0m \u001b[0;34m\u001b[0m\u001b[0m\n\u001b[1;32m   1707\u001b[0m     def evaluate(self, x=None, y=None,\n",
            "\u001b[0;32m/usr/local/lib/python3.6/dist-packages/keras/engine/training.py\u001b[0m in \u001b[0;36m_fit_loop\u001b[0;34m(self, f, ins, out_labels, batch_size, epochs, verbose, callbacks, val_f, val_ins, shuffle, callback_metrics, initial_epoch, steps_per_epoch, validation_steps)\u001b[0m\n\u001b[1;32m   1234\u001b[0m                         \u001b[0mins_batch\u001b[0m\u001b[0;34m[\u001b[0m\u001b[0mi\u001b[0m\u001b[0;34m]\u001b[0m \u001b[0;34m=\u001b[0m \u001b[0mins_batch\u001b[0m\u001b[0;34m[\u001b[0m\u001b[0mi\u001b[0m\u001b[0;34m]\u001b[0m\u001b[0;34m.\u001b[0m\u001b[0mtoarray\u001b[0m\u001b[0;34m(\u001b[0m\u001b[0;34m)\u001b[0m\u001b[0;34m\u001b[0m\u001b[0m\n\u001b[1;32m   1235\u001b[0m \u001b[0;34m\u001b[0m\u001b[0m\n\u001b[0;32m-> 1236\u001b[0;31m                     \u001b[0mouts\u001b[0m \u001b[0;34m=\u001b[0m \u001b[0mf\u001b[0m\u001b[0;34m(\u001b[0m\u001b[0mins_batch\u001b[0m\u001b[0;34m)\u001b[0m\u001b[0;34m\u001b[0m\u001b[0m\n\u001b[0m\u001b[1;32m   1237\u001b[0m                     \u001b[0;32mif\u001b[0m \u001b[0;32mnot\u001b[0m \u001b[0misinstance\u001b[0m\u001b[0;34m(\u001b[0m\u001b[0mouts\u001b[0m\u001b[0;34m,\u001b[0m \u001b[0mlist\u001b[0m\u001b[0;34m)\u001b[0m\u001b[0;34m:\u001b[0m\u001b[0;34m\u001b[0m\u001b[0m\n\u001b[1;32m   1238\u001b[0m                         \u001b[0mouts\u001b[0m \u001b[0;34m=\u001b[0m \u001b[0;34m[\u001b[0m\u001b[0mouts\u001b[0m\u001b[0;34m]\u001b[0m\u001b[0;34m\u001b[0m\u001b[0m\n",
            "\u001b[0;32m/usr/local/lib/python3.6/dist-packages/keras/backend/tensorflow_backend.py\u001b[0m in \u001b[0;36m__call__\u001b[0;34m(self, inputs)\u001b[0m\n\u001b[1;32m   2480\u001b[0m         \u001b[0msession\u001b[0m \u001b[0;34m=\u001b[0m \u001b[0mget_session\u001b[0m\u001b[0;34m(\u001b[0m\u001b[0;34m)\u001b[0m\u001b[0;34m\u001b[0m\u001b[0m\n\u001b[1;32m   2481\u001b[0m         updated = session.run(fetches=fetches, feed_dict=feed_dict,\n\u001b[0;32m-> 2482\u001b[0;31m                               **self.session_kwargs)\n\u001b[0m\u001b[1;32m   2483\u001b[0m         \u001b[0;32mreturn\u001b[0m \u001b[0mupdated\u001b[0m\u001b[0;34m[\u001b[0m\u001b[0;34m:\u001b[0m\u001b[0mlen\u001b[0m\u001b[0;34m(\u001b[0m\u001b[0mself\u001b[0m\u001b[0;34m.\u001b[0m\u001b[0moutputs\u001b[0m\u001b[0;34m)\u001b[0m\u001b[0;34m]\u001b[0m\u001b[0;34m\u001b[0m\u001b[0m\n\u001b[1;32m   2484\u001b[0m \u001b[0;34m\u001b[0m\u001b[0m\n",
            "\u001b[0;32m/usr/local/lib/python3.6/dist-packages/tensorflow/python/client/session.py\u001b[0m in \u001b[0;36mrun\u001b[0;34m(self, fetches, feed_dict, options, run_metadata)\u001b[0m\n\u001b[1;32m    903\u001b[0m     \u001b[0;32mtry\u001b[0m\u001b[0;34m:\u001b[0m\u001b[0;34m\u001b[0m\u001b[0m\n\u001b[1;32m    904\u001b[0m       result = self._run(None, fetches, feed_dict, options_ptr,\n\u001b[0;32m--> 905\u001b[0;31m                          run_metadata_ptr)\n\u001b[0m\u001b[1;32m    906\u001b[0m       \u001b[0;32mif\u001b[0m \u001b[0mrun_metadata\u001b[0m\u001b[0;34m:\u001b[0m\u001b[0;34m\u001b[0m\u001b[0m\n\u001b[1;32m    907\u001b[0m         \u001b[0mproto_data\u001b[0m \u001b[0;34m=\u001b[0m \u001b[0mtf_session\u001b[0m\u001b[0;34m.\u001b[0m\u001b[0mTF_GetBuffer\u001b[0m\u001b[0;34m(\u001b[0m\u001b[0mrun_metadata_ptr\u001b[0m\u001b[0;34m)\u001b[0m\u001b[0;34m\u001b[0m\u001b[0m\n",
            "\u001b[0;32m/usr/local/lib/python3.6/dist-packages/tensorflow/python/client/session.py\u001b[0m in \u001b[0;36m_run\u001b[0;34m(self, handle, fetches, feed_dict, options, run_metadata)\u001b[0m\n\u001b[1;32m   1138\u001b[0m     \u001b[0;32mif\u001b[0m \u001b[0mfinal_fetches\u001b[0m \u001b[0;32mor\u001b[0m \u001b[0mfinal_targets\u001b[0m \u001b[0;32mor\u001b[0m \u001b[0;34m(\u001b[0m\u001b[0mhandle\u001b[0m \u001b[0;32mand\u001b[0m \u001b[0mfeed_dict_tensor\u001b[0m\u001b[0;34m)\u001b[0m\u001b[0;34m:\u001b[0m\u001b[0;34m\u001b[0m\u001b[0m\n\u001b[1;32m   1139\u001b[0m       results = self._do_run(handle, final_targets, final_fetches,\n\u001b[0;32m-> 1140\u001b[0;31m                              feed_dict_tensor, options, run_metadata)\n\u001b[0m\u001b[1;32m   1141\u001b[0m     \u001b[0;32melse\u001b[0m\u001b[0;34m:\u001b[0m\u001b[0;34m\u001b[0m\u001b[0m\n\u001b[1;32m   1142\u001b[0m       \u001b[0mresults\u001b[0m \u001b[0;34m=\u001b[0m \u001b[0;34m[\u001b[0m\u001b[0;34m]\u001b[0m\u001b[0;34m\u001b[0m\u001b[0m\n",
            "\u001b[0;32m/usr/local/lib/python3.6/dist-packages/tensorflow/python/client/session.py\u001b[0m in \u001b[0;36m_do_run\u001b[0;34m(self, handle, target_list, fetch_list, feed_dict, options, run_metadata)\u001b[0m\n\u001b[1;32m   1319\u001b[0m     \u001b[0;32mif\u001b[0m \u001b[0mhandle\u001b[0m \u001b[0;32mis\u001b[0m \u001b[0;32mNone\u001b[0m\u001b[0;34m:\u001b[0m\u001b[0;34m\u001b[0m\u001b[0m\n\u001b[1;32m   1320\u001b[0m       return self._do_call(_run_fn, feeds, fetches, targets, options,\n\u001b[0;32m-> 1321\u001b[0;31m                            run_metadata)\n\u001b[0m\u001b[1;32m   1322\u001b[0m     \u001b[0;32melse\u001b[0m\u001b[0;34m:\u001b[0m\u001b[0;34m\u001b[0m\u001b[0m\n\u001b[1;32m   1323\u001b[0m       \u001b[0;32mreturn\u001b[0m \u001b[0mself\u001b[0m\u001b[0;34m.\u001b[0m\u001b[0m_do_call\u001b[0m\u001b[0;34m(\u001b[0m\u001b[0m_prun_fn\u001b[0m\u001b[0;34m,\u001b[0m \u001b[0mhandle\u001b[0m\u001b[0;34m,\u001b[0m \u001b[0mfeeds\u001b[0m\u001b[0;34m,\u001b[0m \u001b[0mfetches\u001b[0m\u001b[0;34m)\u001b[0m\u001b[0;34m\u001b[0m\u001b[0m\n",
            "\u001b[0;32m/usr/local/lib/python3.6/dist-packages/tensorflow/python/client/session.py\u001b[0m in \u001b[0;36m_do_call\u001b[0;34m(self, fn, *args)\u001b[0m\n\u001b[1;32m   1325\u001b[0m   \u001b[0;32mdef\u001b[0m \u001b[0m_do_call\u001b[0m\u001b[0;34m(\u001b[0m\u001b[0mself\u001b[0m\u001b[0;34m,\u001b[0m \u001b[0mfn\u001b[0m\u001b[0;34m,\u001b[0m \u001b[0;34m*\u001b[0m\u001b[0margs\u001b[0m\u001b[0;34m)\u001b[0m\u001b[0;34m:\u001b[0m\u001b[0;34m\u001b[0m\u001b[0m\n\u001b[1;32m   1326\u001b[0m     \u001b[0;32mtry\u001b[0m\u001b[0;34m:\u001b[0m\u001b[0;34m\u001b[0m\u001b[0m\n\u001b[0;32m-> 1327\u001b[0;31m       \u001b[0;32mreturn\u001b[0m \u001b[0mfn\u001b[0m\u001b[0;34m(\u001b[0m\u001b[0;34m*\u001b[0m\u001b[0margs\u001b[0m\u001b[0;34m)\u001b[0m\u001b[0;34m\u001b[0m\u001b[0m\n\u001b[0m\u001b[1;32m   1328\u001b[0m     \u001b[0;32mexcept\u001b[0m \u001b[0merrors\u001b[0m\u001b[0;34m.\u001b[0m\u001b[0mOpError\u001b[0m \u001b[0;32mas\u001b[0m \u001b[0me\u001b[0m\u001b[0;34m:\u001b[0m\u001b[0;34m\u001b[0m\u001b[0m\n\u001b[1;32m   1329\u001b[0m       \u001b[0mmessage\u001b[0m \u001b[0;34m=\u001b[0m \u001b[0mcompat\u001b[0m\u001b[0;34m.\u001b[0m\u001b[0mas_text\u001b[0m\u001b[0;34m(\u001b[0m\u001b[0me\u001b[0m\u001b[0;34m.\u001b[0m\u001b[0mmessage\u001b[0m\u001b[0;34m)\u001b[0m\u001b[0;34m\u001b[0m\u001b[0m\n",
            "\u001b[0;32m/usr/local/lib/python3.6/dist-packages/tensorflow/python/client/session.py\u001b[0m in \u001b[0;36m_run_fn\u001b[0;34m(feed_dict, fetch_list, target_list, options, run_metadata)\u001b[0m\n\u001b[1;32m   1310\u001b[0m       \u001b[0mself\u001b[0m\u001b[0;34m.\u001b[0m\u001b[0m_extend_graph\u001b[0m\u001b[0;34m(\u001b[0m\u001b[0;34m)\u001b[0m\u001b[0;34m\u001b[0m\u001b[0m\n\u001b[1;32m   1311\u001b[0m       return self._call_tf_sessionrun(\n\u001b[0;32m-> 1312\u001b[0;31m           options, feed_dict, fetch_list, target_list, run_metadata)\n\u001b[0m\u001b[1;32m   1313\u001b[0m \u001b[0;34m\u001b[0m\u001b[0m\n\u001b[1;32m   1314\u001b[0m     \u001b[0;32mdef\u001b[0m \u001b[0m_prun_fn\u001b[0m\u001b[0;34m(\u001b[0m\u001b[0mhandle\u001b[0m\u001b[0;34m,\u001b[0m \u001b[0mfeed_dict\u001b[0m\u001b[0;34m,\u001b[0m \u001b[0mfetch_list\u001b[0m\u001b[0;34m)\u001b[0m\u001b[0;34m:\u001b[0m\u001b[0;34m\u001b[0m\u001b[0m\n",
            "\u001b[0;32m/usr/local/lib/python3.6/dist-packages/tensorflow/python/client/session.py\u001b[0m in \u001b[0;36m_call_tf_sessionrun\u001b[0;34m(self, options, feed_dict, fetch_list, target_list, run_metadata)\u001b[0m\n\u001b[1;32m   1418\u001b[0m         return tf_session.TF_Run(\n\u001b[1;32m   1419\u001b[0m             \u001b[0mself\u001b[0m\u001b[0;34m.\u001b[0m\u001b[0m_session\u001b[0m\u001b[0;34m,\u001b[0m \u001b[0moptions\u001b[0m\u001b[0;34m,\u001b[0m \u001b[0mfeed_dict\u001b[0m\u001b[0;34m,\u001b[0m \u001b[0mfetch_list\u001b[0m\u001b[0;34m,\u001b[0m \u001b[0mtarget_list\u001b[0m\u001b[0;34m,\u001b[0m\u001b[0;34m\u001b[0m\u001b[0m\n\u001b[0;32m-> 1420\u001b[0;31m             status, run_metadata)\n\u001b[0m\u001b[1;32m   1421\u001b[0m \u001b[0;34m\u001b[0m\u001b[0m\n\u001b[1;32m   1422\u001b[0m   \u001b[0;32mdef\u001b[0m \u001b[0m_call_tf_sessionprun\u001b[0m\u001b[0;34m(\u001b[0m\u001b[0mself\u001b[0m\u001b[0;34m,\u001b[0m \u001b[0mhandle\u001b[0m\u001b[0;34m,\u001b[0m \u001b[0mfeed_dict\u001b[0m\u001b[0;34m,\u001b[0m \u001b[0mfetch_list\u001b[0m\u001b[0;34m)\u001b[0m\u001b[0;34m:\u001b[0m\u001b[0;34m\u001b[0m\u001b[0m\n",
            "\u001b[0;31mKeyboardInterrupt\u001b[0m: "
          ]
        }
      ]
    },
    {
      "metadata": {
        "id": "-MajzLkVLdgy",
        "colab_type": "code",
        "colab": {
          "autoexec": {
            "startup": false,
            "wait_interval": 0
          }
        }
      },
      "cell_type": "code",
      "source": [
        "model.save('100epochs_3channel.h5')"
      ],
      "execution_count": 0,
      "outputs": []
    },
    {
      "metadata": {
        "id": "RDZiJ2rjMd3J",
        "colab_type": "code",
        "colab": {
          "autoexec": {
            "startup": false,
            "wait_interval": 0
          },
          "base_uri": "https://localhost:8080/",
          "height": 51
        },
        "outputId": "652970c3-7205-4fc7-a665-7c63d5ea1d9f",
        "executionInfo": {
          "status": "ok",
          "timestamp": 1525640136251,
          "user_tz": -330,
          "elapsed": 2750,
          "user": {
            "displayName": "Vaibhav Jade",
            "photoUrl": "https://lh3.googleusercontent.com/a/default-user=s128",
            "userId": "112426218802661198208"
          }
        }
      },
      "cell_type": "code",
      "source": [
        "!ls"
      ],
      "execution_count": 17,
      "outputs": [
        {
          "output_type": "stream",
          "text": [
            "100epochs_3channel.h5  data.h5\t    mycode.ipynb  trial.ipynb\r\n",
            "data_1.h5\t       model.ipynb  trainingSet\r\n"
          ],
          "name": "stdout"
        }
      ]
    },
    {
      "metadata": {
        "id": "4-YPbskwPPsJ",
        "colab_type": "code",
        "colab": {
          "autoexec": {
            "startup": false,
            "wait_interval": 0
          }
        }
      },
      "cell_type": "code",
      "source": [
        ""
      ],
      "execution_count": 0,
      "outputs": []
    }
  ]
}